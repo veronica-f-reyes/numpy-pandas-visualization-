{
 "cells": [
  {
   "cell_type": "markdown",
   "id": "377a2d00",
   "metadata": {},
   "source": [
    "## Exercises Part I\n",
    "\n",
    "Use pandas to create a Series named fruits from the following list:\n",
    "\n",
    "[\"kiwi\", \"mango\", \"strawberry\", \"pineapple\", \"gala apple\", \"honeycrisp apple\", \"tomato\", \"watermelon\", \"honeydew\", \"kiwi\", \"kiwi\", \"kiwi\", \"mango\", \"blueberry\", \"blackberry\", \"gooseberry\", \"papaya\"]\n",
    "\n",
    "Use Series attributes and methods to explore your fruits Series."
   ]
  },
  {
   "cell_type": "code",
   "execution_count": 3,
   "id": "67cfba0f",
   "metadata": {},
   "outputs": [],
   "source": [
    "import numpy as np\n",
    "import pandas as pd\n",
    "\n",
    "import matplotlib.pyplot as plt\n",
    "\n",
    "fruits_series = pd.Series([\"kiwi\", \"mango\", \"strawberry\", \"pineapple\", \"gala apple\", \"honeycrisp apple\", \"tomato\", \"watermelon\", \"honeydew\", \"kiwi\", \"kiwi\", \"kiwi\", \"mango\", \"blueberry\", \"blackberry\", \"gooseberry\", \"papaya\"])"
   ]
  },
  {
   "cell_type": "code",
   "execution_count": 6,
   "id": "e07db39f",
   "metadata": {},
   "outputs": [
    {
     "data": {
      "text/plain": [
       "0                 kiwi\n",
       "1                mango\n",
       "2           strawberry\n",
       "3            pineapple\n",
       "4           gala apple\n",
       "5     honeycrisp apple\n",
       "6               tomato\n",
       "7           watermelon\n",
       "8             honeydew\n",
       "9                 kiwi\n",
       "10                kiwi\n",
       "11                kiwi\n",
       "12               mango\n",
       "13           blueberry\n",
       "14          blackberry\n",
       "15          gooseberry\n",
       "16              papaya\n",
       "dtype: object"
      ]
     },
     "execution_count": 6,
     "metadata": {},
     "output_type": "execute_result"
    }
   ],
   "source": [
    "type(fruits_series)\n",
    "fruits_series"
   ]
  },
  {
   "cell_type": "markdown",
   "id": "8c23f72b",
   "metadata": {},
   "source": [
    "### 1. Determine the number of elements in fruits."
   ]
  },
  {
   "cell_type": "code",
   "execution_count": 7,
   "id": "b08165f1",
   "metadata": {},
   "outputs": [
    {
     "data": {
      "text/plain": [
       "17"
      ]
     },
     "execution_count": 7,
     "metadata": {},
     "output_type": "execute_result"
    }
   ],
   "source": [
    "fruits_series.size"
   ]
  },
  {
   "cell_type": "markdown",
   "id": "08e80346",
   "metadata": {},
   "source": [
    "### 2. Output only the index from fruits."
   ]
  },
  {
   "cell_type": "code",
   "execution_count": 8,
   "id": "c6f58557",
   "metadata": {},
   "outputs": [
    {
     "data": {
      "text/plain": [
       "RangeIndex(start=0, stop=17, step=1)"
      ]
     },
     "execution_count": 8,
     "metadata": {},
     "output_type": "execute_result"
    }
   ],
   "source": [
    "fruits_series.index"
   ]
  },
  {
   "cell_type": "markdown",
   "id": "b4a6e23d",
   "metadata": {},
   "source": [
    "### 3. Output only the values from fruits."
   ]
  },
  {
   "cell_type": "code",
   "execution_count": 9,
   "id": "df350fe9",
   "metadata": {},
   "outputs": [
    {
     "data": {
      "text/plain": [
       "array(['kiwi', 'mango', 'strawberry', 'pineapple', 'gala apple',\n",
       "       'honeycrisp apple', 'tomato', 'watermelon', 'honeydew', 'kiwi',\n",
       "       'kiwi', 'kiwi', 'mango', 'blueberry', 'blackberry', 'gooseberry',\n",
       "       'papaya'], dtype=object)"
      ]
     },
     "execution_count": 9,
     "metadata": {},
     "output_type": "execute_result"
    }
   ],
   "source": [
    "fruits_series.values"
   ]
  },
  {
   "cell_type": "markdown",
   "id": "7e55bb62",
   "metadata": {},
   "source": [
    "### 4. Confirm the data type of the values in fruits."
   ]
  },
  {
   "cell_type": "code",
   "execution_count": 10,
   "id": "bc4385f7",
   "metadata": {},
   "outputs": [
    {
     "data": {
      "text/plain": [
       "dtype('O')"
      ]
     },
     "execution_count": 10,
     "metadata": {},
     "output_type": "execute_result"
    }
   ],
   "source": [
    "fruits_series.dtype"
   ]
  },
  {
   "cell_type": "markdown",
   "id": "44dfd6da",
   "metadata": {},
   "source": [
    "### 5. a.) Output only the first five values from fruits. "
   ]
  },
  {
   "cell_type": "code",
   "execution_count": 11,
   "id": "285c88d4",
   "metadata": {},
   "outputs": [
    {
     "data": {
      "text/plain": [
       "0          kiwi\n",
       "1         mango\n",
       "2    strawberry\n",
       "3     pineapple\n",
       "4    gala apple\n",
       "dtype: object"
      ]
     },
     "execution_count": 11,
     "metadata": {},
     "output_type": "execute_result"
    }
   ],
   "source": [
    "fruits_series.head(5)"
   ]
  },
  {
   "cell_type": "markdown",
   "id": "f73c69e4",
   "metadata": {},
   "source": [
    "### 5. b.) Output the last three values. "
   ]
  },
  {
   "cell_type": "code",
   "execution_count": 12,
   "id": "8d921934",
   "metadata": {},
   "outputs": [
    {
     "data": {
      "text/plain": [
       "14    blackberry\n",
       "15    gooseberry\n",
       "16        papaya\n",
       "dtype: object"
      ]
     },
     "execution_count": 12,
     "metadata": {},
     "output_type": "execute_result"
    }
   ],
   "source": [
    "fruits_series.tail(3)"
   ]
  },
  {
   "cell_type": "markdown",
   "id": "9f5c7aab",
   "metadata": {},
   "source": [
    "### 5. c.) Output two random values from fruits."
   ]
  },
  {
   "cell_type": "code",
   "execution_count": 16,
   "id": "612ae15a",
   "metadata": {},
   "outputs": [
    {
     "data": {
      "text/plain": [
       "11    kiwi\n",
       "0     kiwi\n",
       "dtype: object"
      ]
     },
     "execution_count": 16,
     "metadata": {},
     "output_type": "execute_result"
    }
   ],
   "source": [
    "fruits_series.sample(2) "
   ]
  },
  {
   "cell_type": "markdown",
   "id": "db032c6c",
   "metadata": {},
   "source": [
    "### 6. Run the .describe() on fruits to see what information it returns when called on a Series with string values."
   ]
  },
  {
   "cell_type": "code",
   "execution_count": 17,
   "id": "91f30505",
   "metadata": {},
   "outputs": [
    {
     "data": {
      "text/plain": [
       "count       17\n",
       "unique      13\n",
       "top       kiwi\n",
       "freq         4\n",
       "dtype: object"
      ]
     },
     "execution_count": 17,
     "metadata": {},
     "output_type": "execute_result"
    }
   ],
   "source": [
    "fruits_series.describe()"
   ]
  },
  {
   "cell_type": "markdown",
   "id": "bd5c3316",
   "metadata": {},
   "source": [
    "### 7. Run the code necessary to produce only the unique string values from fruits."
   ]
  },
  {
   "cell_type": "code",
   "execution_count": 18,
   "id": "7cd4f963",
   "metadata": {},
   "outputs": [
    {
     "data": {
      "text/plain": [
       "kiwi                4\n",
       "mango               2\n",
       "honeycrisp apple    1\n",
       "honeydew            1\n",
       "blackberry          1\n",
       "gala apple          1\n",
       "watermelon          1\n",
       "gooseberry          1\n",
       "strawberry          1\n",
       "tomato              1\n",
       "papaya              1\n",
       "pineapple           1\n",
       "blueberry           1\n",
       "dtype: int64"
      ]
     },
     "execution_count": 18,
     "metadata": {},
     "output_type": "execute_result"
    }
   ],
   "source": [
    "fruits_series.value_counts()"
   ]
  },
  {
   "cell_type": "markdown",
   "id": "022b378b",
   "metadata": {},
   "source": [
    "### 8. Determine how many times each unique string value occurs in fruits."
   ]
  },
  {
   "cell_type": "code",
   "execution_count": 30,
   "id": "70640ab5",
   "metadata": {},
   "outputs": [
    {
     "data": {
      "text/plain": [
       "kiwi                4\n",
       "mango               2\n",
       "honeycrisp apple    1\n",
       "honeydew            1\n",
       "blackberry          1\n",
       "gala apple          1\n",
       "watermelon          1\n",
       "gooseberry          1\n",
       "strawberry          1\n",
       "tomato              1\n",
       "papaya              1\n",
       "pineapple           1\n",
       "blueberry           1\n",
       "dtype: int64"
      ]
     },
     "execution_count": 30,
     "metadata": {},
     "output_type": "execute_result"
    }
   ],
   "source": [
    "fruits_series.value_counts()"
   ]
  },
  {
   "cell_type": "markdown",
   "id": "5d45c0cb",
   "metadata": {},
   "source": [
    "### 9. Determine the string value that occurs most frequently in fruits.\n",
    "\n"
   ]
  },
  {
   "cell_type": "code",
   "execution_count": 42,
   "id": "4073f859",
   "metadata": {},
   "outputs": [
    {
     "data": {
      "text/plain": [
       "kiwi                4\n",
       "mango               2\n",
       "honeycrisp apple    1\n",
       "honeydew            1\n",
       "blackberry          1\n",
       "gala apple          1\n",
       "watermelon          1\n",
       "gooseberry          1\n",
       "strawberry          1\n",
       "tomato              1\n",
       "papaya              1\n",
       "pineapple           1\n",
       "blueberry           1\n",
       "dtype: int64"
      ]
     },
     "execution_count": 42,
     "metadata": {},
     "output_type": "execute_result"
    }
   ],
   "source": [
    "fruits_series.value_counts()\n",
    "#fruits_series.nlargest(n=5, keep='first')\n",
    "#fruits_series.sort_values(ascending=False)"
   ]
  },
  {
   "cell_type": "markdown",
   "id": "aa006f32",
   "metadata": {},
   "source": [
    "### 10. Determine the string value that occurs least frequently in fruits."
   ]
  },
  {
   "cell_type": "code",
   "execution_count": 43,
   "id": "d4b14dac",
   "metadata": {},
   "outputs": [
    {
     "data": {
      "text/plain": [
       "kiwi                4\n",
       "mango               2\n",
       "honeycrisp apple    1\n",
       "honeydew            1\n",
       "blackberry          1\n",
       "gala apple          1\n",
       "watermelon          1\n",
       "gooseberry          1\n",
       "strawberry          1\n",
       "tomato              1\n",
       "papaya              1\n",
       "pineapple           1\n",
       "blueberry           1\n",
       "dtype: int64"
      ]
     },
     "execution_count": 43,
     "metadata": {},
     "output_type": "execute_result"
    }
   ],
   "source": [
    "fruits_series.value_counts()\n",
    "\n",
    "#fruits_series.nsmallest(n=5, keep='first')"
   ]
  },
  {
   "cell_type": "code",
   "execution_count": null,
   "id": "648788d7",
   "metadata": {},
   "outputs": [],
   "source": []
  }
 ],
 "metadata": {
  "kernelspec": {
   "display_name": "Python 3",
   "language": "python",
   "name": "python3"
  },
  "language_info": {
   "codemirror_mode": {
    "name": "ipython",
    "version": 3
   },
   "file_extension": ".py",
   "mimetype": "text/x-python",
   "name": "python",
   "nbconvert_exporter": "python",
   "pygments_lexer": "ipython3",
   "version": "3.8.8"
  }
 },
 "nbformat": 4,
 "nbformat_minor": 5
}
