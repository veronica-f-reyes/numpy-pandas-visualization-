{
 "cells": [
  {
   "cell_type": "markdown",
   "id": "c82e8bc8",
   "metadata": {},
   "source": [
    "## Exercises Part I\n",
    "\n",
    "Use pandas to create a Series named fruits from the following list:\n",
    "\n",
    "[\"kiwi\", \"mango\", \"strawberry\", \"pineapple\", \"gala apple\", \"honeycrisp apple\", \"tomato\", \"watermelon\", \"honeydew\", \"kiwi\", \"kiwi\", \"kiwi\", \"mango\", \"blueberry\", \"blackberry\", \"gooseberry\", \"papaya\"]\n",
    "\n",
    "Use Series attributes and methods to explore your fruits Series."
   ]
  },
  {
   "cell_type": "code",
   "execution_count": 2,
   "id": "c25077ee",
   "metadata": {},
   "outputs": [],
   "source": [
    "import numpy as np\n",
    "import pandas as pd\n",
    "\n",
    "import matplotlib.pyplot as plt\n",
    "\n",
    "fruits_series = pd.Series([\"kiwi\", \"mango\", \"strawberry\", \"pineapple\", \"gala apple\", \"honeycrisp apple\", \"tomato\", \"watermelon\", \"honeydew\", \"kiwi\", \"kiwi\", \"kiwi\", \"mango\", \"blueberry\", \"blackberry\", \"gooseberry\", \"papaya\"])"
   ]
  },
  {
   "cell_type": "code",
   "execution_count": null,
   "id": "1252030a",
   "metadata": {},
   "outputs": [],
   "source": [
    "fruits_series"
   ]
  },
  {
   "cell_type": "markdown",
   "id": "0d1964cd",
   "metadata": {},
   "source": [
    "### 1. Determine the number of elements in fruits."
   ]
  },
  {
   "cell_type": "code",
   "execution_count": null,
   "id": "a902749b",
   "metadata": {},
   "outputs": [],
   "source": [
    "fruits_series.size"
   ]
  },
  {
   "cell_type": "markdown",
   "id": "f2e0ff14",
   "metadata": {},
   "source": [
    "### 2. Output only the index from fruits."
   ]
  },
  {
   "cell_type": "code",
   "execution_count": null,
   "id": "cf3ecc99",
   "metadata": {},
   "outputs": [],
   "source": [
    "fruits_series.index\n",
    "\n"
   ]
  },
  {
   "cell_type": "code",
   "execution_count": null,
   "id": "564862e6",
   "metadata": {},
   "outputs": [],
   "source": [
    "fruits_series.index.tolist()"
   ]
  },
  {
   "cell_type": "markdown",
   "id": "e589b2fa",
   "metadata": {},
   "source": [
    "### 3. Output only the values from fruits."
   ]
  },
  {
   "cell_type": "code",
   "execution_count": null,
   "id": "21373cf3",
   "metadata": {},
   "outputs": [],
   "source": [
    "fruits_series.values"
   ]
  },
  {
   "cell_type": "code",
   "execution_count": null,
   "id": "c33430fa",
   "metadata": {},
   "outputs": [],
   "source": [
    "fruits_series.values.tolist()"
   ]
  },
  {
   "cell_type": "markdown",
   "id": "2acaeaae",
   "metadata": {},
   "source": [
    "### 4. Confirm the data type of the values in fruits."
   ]
  },
  {
   "cell_type": "code",
   "execution_count": null,
   "id": "8951fa13",
   "metadata": {},
   "outputs": [],
   "source": [
    "fruits_series.dtype"
   ]
  },
  {
   "cell_type": "code",
   "execution_count": null,
   "id": "bd682ad8",
   "metadata": {},
   "outputs": [],
   "source": [
    "fruits_series"
   ]
  },
  {
   "cell_type": "markdown",
   "id": "51855f9c",
   "metadata": {},
   "source": [
    "### 5. a.) Output only the first five values from fruits. "
   ]
  },
  {
   "cell_type": "code",
   "execution_count": null,
   "id": "03397c3f",
   "metadata": {},
   "outputs": [],
   "source": [
    "fruits_series.head(5)"
   ]
  },
  {
   "cell_type": "markdown",
   "id": "4bd3dc52",
   "metadata": {},
   "source": [
    "### 5. b.) Output the last three values. "
   ]
  },
  {
   "cell_type": "code",
   "execution_count": null,
   "id": "4cf27ed1",
   "metadata": {},
   "outputs": [],
   "source": [
    "fruits_series.tail(3)"
   ]
  },
  {
   "cell_type": "markdown",
   "id": "ce1eef12",
   "metadata": {},
   "source": [
    "### 5. c.) Output two random values from fruits."
   ]
  },
  {
   "cell_type": "code",
   "execution_count": null,
   "id": "4d0dd13e",
   "metadata": {},
   "outputs": [],
   "source": [
    "fruits_series.sample(2) "
   ]
  },
  {
   "cell_type": "markdown",
   "id": "708574c9",
   "metadata": {},
   "source": [
    "### 6. Run the .describe() on fruits to see what information it returns when called on a Series with string values."
   ]
  },
  {
   "cell_type": "code",
   "execution_count": null,
   "id": "4b85bba3",
   "metadata": {},
   "outputs": [],
   "source": [
    "fruits_series.describe()"
   ]
  },
  {
   "cell_type": "markdown",
   "id": "cd04520b",
   "metadata": {},
   "source": [
    "### 7. Run the code necessary to produce only the unique string values from fruits."
   ]
  },
  {
   "cell_type": "code",
   "execution_count": null,
   "id": "3c397fbf",
   "metadata": {},
   "outputs": [],
   "source": [
    "fruits_series.value_counts()"
   ]
  },
  {
   "cell_type": "code",
   "execution_count": null,
   "id": "4b173a90",
   "metadata": {},
   "outputs": [],
   "source": [
    "fruits_series.unique()"
   ]
  },
  {
   "cell_type": "code",
   "execution_count": null,
   "id": "7b80a755",
   "metadata": {},
   "outputs": [],
   "source": [
    "fruits_series.nunique()"
   ]
  },
  {
   "cell_type": "markdown",
   "id": "de567c48",
   "metadata": {},
   "source": [
    "### 8. Determine how many times each unique string value occurs in fruits."
   ]
  },
  {
   "cell_type": "code",
   "execution_count": null,
   "id": "1901fdaf",
   "metadata": {},
   "outputs": [],
   "source": [
    "fruits_series.value_counts()"
   ]
  },
  {
   "cell_type": "markdown",
   "id": "fc7a617b",
   "metadata": {},
   "source": [
    "### 9. Determine the string value that occurs most frequently in fruits.\n",
    "\n"
   ]
  },
  {
   "cell_type": "code",
   "execution_count": null,
   "id": "697d357d",
   "metadata": {},
   "outputs": [],
   "source": [
    "fruits_series.value_counts()"
   ]
  },
  {
   "cell_type": "code",
   "execution_count": null,
   "id": "a66399ca",
   "metadata": {},
   "outputs": [],
   "source": [
    "fruits_series.value_counts().head(1)"
   ]
  },
  {
   "cell_type": "code",
   "execution_count": null,
   "id": "c0dfffb0",
   "metadata": {},
   "outputs": [],
   "source": [
    "fruits_series.value_counts().idxmax()"
   ]
  },
  {
   "cell_type": "code",
   "execution_count": null,
   "id": "6979c2d5",
   "metadata": {},
   "outputs": [],
   "source": [
    "fruits_series.value_counts().nlargest(n=1, keep ='all')"
   ]
  },
  {
   "cell_type": "markdown",
   "id": "43c6c867",
   "metadata": {},
   "source": [
    "### 10. Determine the string value that occurs least frequently in fruits."
   ]
  },
  {
   "cell_type": "code",
   "execution_count": null,
   "id": "2e0bb121",
   "metadata": {},
   "outputs": [],
   "source": [
    "fruits_series.value_counts()\n",
    "\n",
    "#fruits_series.nsmallest(n=5, keep='first')"
   ]
  },
  {
   "cell_type": "code",
   "execution_count": null,
   "id": "14cffaaa",
   "metadata": {},
   "outputs": [],
   "source": [
    "fruits_series.value_counts().tail(11)"
   ]
  },
  {
   "cell_type": "code",
   "execution_count": null,
   "id": "e997e199",
   "metadata": {},
   "outputs": [],
   "source": [
    "fruits_series.value_counts().nsmallest(n=1, keep='all')"
   ]
  },
  {
   "cell_type": "markdown",
   "id": "69a2dfa3",
   "metadata": {},
   "source": [
    "## Exercises Part II"
   ]
  },
  {
   "cell_type": "markdown",
   "id": "f7bb2990",
   "metadata": {},
   "source": [
    "### 1. Capitalize all the string values in fruits."
   ]
  },
  {
   "cell_type": "code",
   "execution_count": null,
   "id": "e2bd354f",
   "metadata": {},
   "outputs": [],
   "source": [
    "fruits_series.str.capitalize()"
   ]
  },
  {
   "cell_type": "markdown",
   "id": "89002ac5",
   "metadata": {},
   "source": [
    "### 2. Count the letter \"a\" in all the string values (use string vectorization)."
   ]
  },
  {
   "cell_type": "code",
   "execution_count": null,
   "id": "b8ead445",
   "metadata": {},
   "outputs": [],
   "source": [
    "fruits_series.apply(lambda row: row.count('a'))"
   ]
  },
  {
   "cell_type": "code",
   "execution_count": null,
   "id": "43160c50",
   "metadata": {},
   "outputs": [],
   "source": [
    "fruits_series.str.count('a')"
   ]
  },
  {
   "cell_type": "markdown",
   "id": "dc0dc1b8",
   "metadata": {},
   "source": [
    "### 3. Output the number of vowels in each and every string value."
   ]
  },
  {
   "cell_type": "code",
   "execution_count": null,
   "id": "8da96be1",
   "metadata": {},
   "outputs": [],
   "source": [
    "fruits_series.str.count('[aeiou]')"
   ]
  },
  {
   "cell_type": "markdown",
   "id": "edc7d5e3",
   "metadata": {},
   "source": [
    "### 4. Write the code to get the longest string value from fruits.\n",
    "\n"
   ]
  },
  {
   "cell_type": "code",
   "execution_count": null,
   "id": "24547c6e",
   "metadata": {},
   "outputs": [],
   "source": [
    "fruits_series.str.len().max()"
   ]
  },
  {
   "cell_type": "code",
   "execution_count": null,
   "id": "19c7c1ca",
   "metadata": {},
   "outputs": [],
   "source": []
  },
  {
   "cell_type": "markdown",
   "id": "7846af0c",
   "metadata": {},
   "source": [
    "### 5. Write the code to get the string values with 5 or more letters in the name.\n",
    "\n"
   ]
  },
  {
   "cell_type": "code",
   "execution_count": null,
   "id": "1032dba4",
   "metadata": {},
   "outputs": [],
   "source": [
    "fruits_series[fruits_series.apply(lambda x: len(x) > 5)]"
   ]
  },
  {
   "cell_type": "markdown",
   "id": "d06fed38",
   "metadata": {},
   "source": [
    "### 6. Use the .apply method with a lambda function to find the fruit(s) containing the letter \"o\" two or more times."
   ]
  },
  {
   "cell_type": "code",
   "execution_count": null,
   "id": "3c45afdb",
   "metadata": {},
   "outputs": [],
   "source": [
    "fruits_series[fruits_series.apply(lambda x: x.count('o')>= 2)]"
   ]
  },
  {
   "cell_type": "markdown",
   "id": "9c81e50c",
   "metadata": {},
   "source": [
    "### 7. Write the code to get only the string values containing the substring \"berry\"."
   ]
  },
  {
   "cell_type": "code",
   "execution_count": null,
   "id": "1f4379eb",
   "metadata": {},
   "outputs": [],
   "source": [
    "fruits_series[fruits_series.str.contains(\"berry\")]"
   ]
  },
  {
   "cell_type": "markdown",
   "id": "28d3882c",
   "metadata": {},
   "source": [
    "### 8. Write the code to get only the string values containing the substring \"apple\"."
   ]
  },
  {
   "cell_type": "code",
   "execution_count": null,
   "id": "6679a3bb",
   "metadata": {},
   "outputs": [],
   "source": [
    "fruits_series[fruits_series.str.contains(\"apple\")]\n"
   ]
  },
  {
   "cell_type": "markdown",
   "id": "90d42024",
   "metadata": {},
   "source": [
    "### 9. Which string value contains the most vowels?"
   ]
  },
  {
   "cell_type": "code",
   "execution_count": null,
   "id": "b2ce8275",
   "metadata": {},
   "outputs": [],
   "source": [
    "vowel_counts = fruits_series.str.count('[aeiou]')\n",
    "\n",
    "max_vowels = vowel_counts.max\n",
    "max_vowels\n",
    "\n",
    "\n",
    "fruits_series[fruits_series.apply(max_vowels)]"
   ]
  },
  {
   "cell_type": "markdown",
   "id": "2eb7c4c4",
   "metadata": {},
   "source": [
    "# Exercises Part III"
   ]
  },
  {
   "cell_type": "markdown",
   "id": "dd8ebae7",
   "metadata": {},
   "source": [
    "Use pandas to create a Series named letters from the following string:\n",
    "\n",
    "\n",
    "    'hnvidduckkqxwymbimkccexbkmqygkxoyndmcxnwqarhyffsjpsrabtjzsypmzadfavyrnndndvswreauxovncxtwzpwejilzjrmmbbgbyxvjtewqthafnbkqplarokkyydtubbmnexoypulzwfhqvckdpqtpoppzqrmcvhhpwgjwupgzhiofohawytlsiyecuproguy'"
   ]
  },
  {
   "cell_type": "code",
   "execution_count": 6,
   "id": "ab04bcf7",
   "metadata": {},
   "outputs": [],
   "source": [
    "letter_list = list('hnvidduckkqxwymbimkccexbkmqygkxoyndmcxnwqarhyffsjpsrabtjzsypmzadfavyrnndndvswreauxovncxtwzpwejilzjrmmbbgbyxvjtewqthafnbkqplarokkyydtubbmnexoypulzwfhqvckdpqtpoppzqrmcvhhpwgjwupgzhiofohawytlsiyecuproguy')\n",
    "\n",
    "letter_series = pd.Series(letter_list)"
   ]
  },
  {
   "cell_type": "code",
   "execution_count": 7,
   "id": "da2591b4",
   "metadata": {},
   "outputs": [
    {
     "data": {
      "text/plain": [
       "<bound method NDFrame.describe of 0      h\n",
       "1      n\n",
       "2      v\n",
       "3      i\n",
       "4      d\n",
       "      ..\n",
       "195    r\n",
       "196    o\n",
       "197    g\n",
       "198    u\n",
       "199    y\n",
       "Length: 200, dtype: object>"
      ]
     },
     "execution_count": 7,
     "metadata": {},
     "output_type": "execute_result"
    }
   ],
   "source": [
    "letter_series.describe"
   ]
  },
  {
   "cell_type": "markdown",
   "id": "3353dbb5",
   "metadata": {},
   "source": [
    "### 1. Which letter occurs the most frequently in the letters Series?"
   ]
  },
  {
   "cell_type": "code",
   "execution_count": 9,
   "id": "99a15c92",
   "metadata": {},
   "outputs": [
    {
     "data": {
      "text/plain": [
       "y    13\n",
       "dtype: int64"
      ]
     },
     "execution_count": 9,
     "metadata": {},
     "output_type": "execute_result"
    }
   ],
   "source": [
    "letter_series.value_counts().head(1)"
   ]
  },
  {
   "cell_type": "markdown",
   "id": "23e6c805",
   "metadata": {},
   "source": [
    "### 2. Which letter occurs the Least frequently?"
   ]
  },
  {
   "cell_type": "code",
   "execution_count": 10,
   "id": "9c25f96e",
   "metadata": {},
   "outputs": [
    {
     "data": {
      "text/plain": [
       "l    4\n",
       "dtype: int64"
      ]
     },
     "execution_count": 10,
     "metadata": {},
     "output_type": "execute_result"
    }
   ],
   "source": [
    "\n",
    "letter_series.value_counts().tail(1)"
   ]
  },
  {
   "cell_type": "markdown",
   "id": "45fc0f30",
   "metadata": {},
   "source": [
    "### 3. How many vowels are in the Series?"
   ]
  },
  {
   "cell_type": "code",
   "execution_count": 14,
   "id": "445c6a06",
   "metadata": {},
   "outputs": [
    {
     "data": {
      "text/plain": [
       "34"
      ]
     },
     "execution_count": 14,
     "metadata": {},
     "output_type": "execute_result"
    }
   ],
   "source": [
    "total_vowels = letter_series.str.count('[aeiou]').sum()\n",
    "total_vowels"
   ]
  },
  {
   "cell_type": "markdown",
   "id": "cd60f2dd",
   "metadata": {},
   "source": [
    "### 4. How many consonants are in the Series?"
   ]
  },
  {
   "cell_type": "code",
   "execution_count": 16,
   "id": "2aeb8436",
   "metadata": {},
   "outputs": [
    {
     "data": {
      "text/plain": [
       "200"
      ]
     },
     "execution_count": 16,
     "metadata": {},
     "output_type": "execute_result"
    }
   ],
   "source": [
    "total_letters_in_string = letter_series.size\n",
    "total_letters_in_string"
   ]
  },
  {
   "cell_type": "code",
   "execution_count": 17,
   "id": "53d57177",
   "metadata": {},
   "outputs": [
    {
     "data": {
      "text/plain": [
       "166"
      ]
     },
     "execution_count": 17,
     "metadata": {},
     "output_type": "execute_result"
    }
   ],
   "source": [
    "total_consonants = total_letters_in_string - total_vowels\n",
    "total_consonants"
   ]
  },
  {
   "cell_type": "markdown",
   "id": "92709fbc",
   "metadata": {},
   "source": [
    "### 5. Create a Series that has all of the same letters but uppercased."
   ]
  },
  {
   "cell_type": "code",
   "execution_count": 19,
   "id": "38856f85",
   "metadata": {},
   "outputs": [
    {
     "data": {
      "text/plain": [
       "0      H\n",
       "1      N\n",
       "2      V\n",
       "3      I\n",
       "4      D\n",
       "      ..\n",
       "195    R\n",
       "196    O\n",
       "197    G\n",
       "198    U\n",
       "199    Y\n",
       "Length: 200, dtype: object"
      ]
     },
     "execution_count": 19,
     "metadata": {},
     "output_type": "execute_result"
    }
   ],
   "source": [
    "letter_series.str.upper()"
   ]
  },
  {
   "cell_type": "markdown",
   "id": "f256f915",
   "metadata": {},
   "source": [
    "### 6. Create a bar plot of the frequencies of the 6 most commonly occuring letters."
   ]
  },
  {
   "cell_type": "code",
   "execution_count": 35,
   "id": "826795ad",
   "metadata": {},
   "outputs": [
    {
     "data": {
      "text/plain": [
       "y    13\n",
       "p    12\n",
       "w    10\n",
       "m     9\n",
       "n     9\n",
       "b     9\n",
       "k     9\n",
       "d     8\n",
       "c     8\n",
       "o     8\n",
       "r     8\n",
       "q     8\n",
       "h     8\n",
       "x     8\n",
       "a     8\n",
       "u     7\n",
       "z     7\n",
       "t     7\n",
       "v     7\n",
       "j     6\n",
       "e     6\n",
       "f     6\n",
       "i     5\n",
       "g     5\n",
       "s     5\n",
       "l     4\n",
       "dtype: int64"
      ]
     },
     "execution_count": 35,
     "metadata": {},
     "output_type": "execute_result"
    }
   ],
   "source": [
    "letter_count = letter_series.value_counts()\n",
    "letter_count"
   ]
  },
  {
   "cell_type": "code",
   "execution_count": 38,
   "id": "959512d4",
   "metadata": {},
   "outputs": [
    {
     "data": {
      "image/png": "[encoded data removed]",
      "text/plain": [
       "<Figure size 432x288 with 1 Axes>"
      ]
     },
     "metadata": {
      "needs_background": "light"
     },
     "output_type": "display_data"
    }
   ],
   "source": [
    "letter_count.head(6).plot.bar()\n",
    "\n",
    "plt.show()"
   ]
  },
  {
   "cell_type": "markdown",
   "id": "018cacd3",
   "metadata": {},
   "source": [
    "### Use pandas to create a Series named numbers from the following list:\n",
    "\n",
    "\n",
    "    ['$796,459.41', '$278.60', '$482,571.67', '$4,503,915.98', '$2,121,418.3', '$1,260,813.3', '$87,231.01', '$1,509,175.45', '$4,138,548.00', '$2,848,913.80', '$594,715.39', '$4,789,988.17', '$4,513,644.5', '$3,191,059.97', '$1,758,712.24', '$4,338,283.54', '$4,738,303.38', '$2,791,759.67', '$769,681.94', '$452,650.23']\n"
   ]
  },
  {
   "cell_type": "code",
   "execution_count": 39,
   "id": "fcb09a78",
   "metadata": {},
   "outputs": [],
   "source": [
    "dollar_series = pd.Series(['$796,459.41', '$278.60', '$482,571.67', '$4,503,915.98', '$2,121,418.3', '$1,260,813.3', '$87,231.01', '$1,509,175.45', '$4,138,548.00', '$2,848,913.80', '$594,715.39', '$4,789,988.17', '$4,513,644.5', '$3,191,059.97', '$1,758,712.24', '$4,338,283.54', '$4,738,303.38', '$2,791,759.67', '$769,681.94', '$452,650.23'])"
   ]
  },
  {
   "cell_type": "code",
   "execution_count": 40,
   "id": "fe1f8519",
   "metadata": {},
   "outputs": [
    {
     "data": {
      "text/plain": [
       "count                20\n",
       "unique               20\n",
       "top       $3,191,059.97\n",
       "freq                  1\n",
       "dtype: object"
      ]
     },
     "execution_count": 40,
     "metadata": {},
     "output_type": "execute_result"
    }
   ],
   "source": [
    "dollar_series.describe()"
   ]
  },
  {
   "cell_type": "markdown",
   "id": "e4afc857",
   "metadata": {},
   "source": [
    "### 1. What is the data type of the numbers Series?"
   ]
  },
  {
   "cell_type": "code",
   "execution_count": 41,
   "id": "98de4619",
   "metadata": {},
   "outputs": [
    {
     "data": {
      "text/plain": [
       "dtype('O')"
      ]
     },
     "execution_count": 41,
     "metadata": {},
     "output_type": "execute_result"
    }
   ],
   "source": [
    "dollar_series.dtype"
   ]
  },
  {
   "cell_type": "markdown",
   "id": "84692dbd",
   "metadata": {},
   "source": [
    "### 2. How many elements are in the number Series?"
   ]
  },
  {
   "cell_type": "code",
   "execution_count": 42,
   "id": "9f36f9e8",
   "metadata": {},
   "outputs": [
    {
     "data": {
      "text/plain": [
       "20"
      ]
     },
     "execution_count": 42,
     "metadata": {},
     "output_type": "execute_result"
    }
   ],
   "source": [
    "dollar_series.size"
   ]
  },
  {
   "cell_type": "markdown",
   "id": "80e0ea53",
   "metadata": {},
   "source": [
    "### 3. Perform the necessary manipulations by accessing Series attributes and methods to convert the numbers Series to a numeric data type."
   ]
  },
  {
   "cell_type": "code",
   "execution_count": 51,
   "id": "c708caac",
   "metadata": {},
   "outputs": [
    {
     "data": {
      "text/plain": [
       "0      796459.41\n",
       "1         278.60\n",
       "2      482571.67\n",
       "3     4503915.98\n",
       "4     2121418.30\n",
       "5     1260813.30\n",
       "6       87231.01\n",
       "7     1509175.45\n",
       "8     4138548.00\n",
       "9     2848913.80\n",
       "10     594715.39\n",
       "11    4789988.17\n",
       "12    4513644.50\n",
       "13    3191059.97\n",
       "14    1758712.24\n",
       "15    4338283.54\n",
       "16    4738303.38\n",
       "17    2791759.67\n",
       "18     769681.94\n",
       "19     452650.23\n",
       "dtype: float64"
      ]
     },
     "execution_count": 51,
     "metadata": {},
     "output_type": "execute_result"
    }
   ],
   "source": [
    "\n",
    "dollar_series = dollar_series.apply(lambda x: x.replace('$', '').replace(',', '')\n",
    "                                if isinstance(x, str) else x).astype(float)\n",
    "\n",
    "dollar_series "
   ]
  },
  {
   "cell_type": "markdown",
   "id": "91392efa",
   "metadata": {},
   "source": [
    "### 4. Run the code to discover the maximum value from the Series."
   ]
  },
  {
   "cell_type": "code",
   "execution_count": 52,
   "id": "9a06caa1",
   "metadata": {},
   "outputs": [
    {
     "data": {
      "text/plain": [
       "4789988.17"
      ]
     },
     "execution_count": 52,
     "metadata": {},
     "output_type": "execute_result"
    }
   ],
   "source": [
    "dollar_series.max()"
   ]
  },
  {
   "cell_type": "markdown",
   "id": "24cd8e43",
   "metadata": {},
   "source": [
    "### 5. Run the code to discover the minimum value from the Series."
   ]
  },
  {
   "cell_type": "code",
   "execution_count": 53,
   "id": "185b4d09",
   "metadata": {},
   "outputs": [
    {
     "data": {
      "text/plain": [
       "278.6"
      ]
     },
     "execution_count": 53,
     "metadata": {},
     "output_type": "execute_result"
    }
   ],
   "source": [
    "dollar_series.min()"
   ]
  },
  {
   "cell_type": "markdown",
   "id": "cbb5e9b8",
   "metadata": {},
   "source": [
    "### 6. What is the range of the values in the Series?"
   ]
  },
  {
   "cell_type": "code",
   "execution_count": 55,
   "id": "ba55f720",
   "metadata": {},
   "outputs": [
    {
     "data": {
      "text/plain": [
       "RangeIndex(start=0, stop=20, step=1)"
      ]
     },
     "execution_count": 55,
     "metadata": {},
     "output_type": "execute_result"
    }
   ],
   "source": [
    "dollar_series.index"
   ]
  },
  {
   "cell_type": "markdown",
   "id": "6dadecfd",
   "metadata": {},
   "source": [
    "### 7. Bin the data into 4 equally sized intervals or bins and output how many values fall into each bin."
   ]
  },
  {
   "cell_type": "code",
   "execution_count": 58,
   "id": "ae8bea5f",
   "metadata": {},
   "outputs": [
    {
     "data": {
      "text/plain": [
       "(-4511.11, 1197705.993]       7\n",
       "(3592560.778, 4789988.17]     6\n",
       "(1197705.993, 2395133.385]    4\n",
       "(2395133.385, 3592560.778]    3\n",
       "dtype: int64"
      ]
     },
     "execution_count": 58,
     "metadata": {},
     "output_type": "execute_result"
    }
   ],
   "source": [
    "pd.cut(dollar_series, 4).value_counts()"
   ]
  },
  {
   "cell_type": "markdown",
   "id": "8871bfe8",
   "metadata": {},
   "source": [
    "### 8. Plot the binned data in a meaningful way. Be sure to include a title and axis labels."
   ]
  },
  {
   "cell_type": "code",
   "execution_count": 67,
   "id": "7ecf7095",
   "metadata": {},
   "outputs": [
    {
     "data": {
      "image/png": "[encoded data removed]",
      "text/plain": [
       "<Figure size 432x288 with 1 Axes>"
      ]
     },
     "metadata": {
      "needs_background": "light"
     },
     "output_type": "display_data"
    }
   ],
   "source": [
    "plt.title('Example Pandas Visualization')\n",
    "plt.xticks(rotation=0)\n",
    "plt.xlabel('Value')\n",
    "plt.ylabel('Frequency')\n",
    "\n",
    "dollar_series.plot.bar()\n",
    "\n",
    "plt.show()\n",
    "\n",
    "\n",
    "\n"
   ]
  },
  {
   "cell_type": "markdown",
   "id": "f74b8249",
   "metadata": {},
   "source": [
    "### Use pandas to create a Series named exam_scores from the following list:\n",
    "\n",
    "\n",
    "    [60, 86, 75, 62, 93, 71, 60, 83, 95, 78, 65, 72, 69, 81, 96, 80, 85, 92, 82, 78]"
   ]
  },
  {
   "cell_type": "code",
   "execution_count": 68,
   "id": "ce6b8131",
   "metadata": {},
   "outputs": [],
   "source": [
    "exam_scores = pd.Series([60, 86, 75, 62, 93, 71, 60, 83, 95, 78, 65, 72, 69, 81, 96, 80, 85, 92, 82, 78])"
   ]
  },
  {
   "cell_type": "code",
   "execution_count": 69,
   "id": "36e00446",
   "metadata": {},
   "outputs": [
    {
     "data": {
      "text/plain": [
       "count    20.000000\n",
       "mean     78.150000\n",
       "std      11.352139\n",
       "min      60.000000\n",
       "25%      70.500000\n",
       "50%      79.000000\n",
       "75%      85.250000\n",
       "max      96.000000\n",
       "dtype: float64"
      ]
     },
     "execution_count": 69,
     "metadata": {},
     "output_type": "execute_result"
    }
   ],
   "source": [
    "exam_scores.describe()"
   ]
  },
  {
   "cell_type": "markdown",
   "id": "336d6807",
   "metadata": {},
   "source": [
    "### 1. How many elements are in the exam_scores Series?"
   ]
  },
  {
   "cell_type": "code",
   "execution_count": 70,
   "id": "bd7b5e48",
   "metadata": {},
   "outputs": [
    {
     "data": {
      "text/plain": [
       "20"
      ]
     },
     "execution_count": 70,
     "metadata": {},
     "output_type": "execute_result"
    }
   ],
   "source": [
    "exam_scores.size"
   ]
  },
  {
   "cell_type": "markdown",
   "id": "bff5285b",
   "metadata": {},
   "source": [
    "### 2. Run the code to discover the minimum, the maximum, the mean, and the median scores for the exam_scores Series."
   ]
  },
  {
   "cell_type": "code",
   "execution_count": 72,
   "id": "57004dce",
   "metadata": {},
   "outputs": [
    {
     "data": {
      "text/plain": [
       "60"
      ]
     },
     "execution_count": 72,
     "metadata": {},
     "output_type": "execute_result"
    }
   ],
   "source": [
    "exam_scores.min()"
   ]
  },
  {
   "cell_type": "code",
   "execution_count": 71,
   "id": "32571d0d",
   "metadata": {},
   "outputs": [
    {
     "data": {
      "text/plain": [
       "96"
      ]
     },
     "execution_count": 71,
     "metadata": {},
     "output_type": "execute_result"
    }
   ],
   "source": [
    "exam_scores.max()"
   ]
  },
  {
   "cell_type": "code",
   "execution_count": 73,
   "id": "f6c0cfa1",
   "metadata": {},
   "outputs": [
    {
     "data": {
      "text/plain": [
       "78.15"
      ]
     },
     "execution_count": 73,
     "metadata": {},
     "output_type": "execute_result"
    }
   ],
   "source": [
    "exam_scores.mean()"
   ]
  },
  {
   "cell_type": "code",
   "execution_count": 74,
   "id": "578b7b13",
   "metadata": {},
   "outputs": [
    {
     "data": {
      "text/plain": [
       "79.0"
      ]
     },
     "execution_count": 74,
     "metadata": {},
     "output_type": "execute_result"
    }
   ],
   "source": [
    "exam_scores.median()"
   ]
  },
  {
   "cell_type": "markdown",
   "id": "38ed7125",
   "metadata": {},
   "source": [
    "### 3. Plot the Series in a meaningful way and make sure your chart has a title and axis labels."
   ]
  },
  {
   "cell_type": "code",
   "execution_count": 95,
   "id": "53fa54b7",
   "metadata": {},
   "outputs": [
    {
     "ename": "AttributeError",
     "evalue": "'Rectangle' object has no property 'bins'",
     "output_type": "error",
     "traceback": [
      "\u001b[0;31m---------------------------------------------------------------------------\u001b[0m",
      "\u001b[0;31mAttributeError\u001b[0m                            Traceback (most recent call last)",
      "\u001b[0;32m<ipython-input-95-f0ac60f54cde>\u001b[0m in \u001b[0;36m<module>\u001b[0;34m\u001b[0m\n\u001b[1;32m      6\u001b[0m \u001b[0mplt\u001b[0m\u001b[0;34m.\u001b[0m\u001b[0mylabel\u001b[0m\u001b[0;34m(\u001b[0m\u001b[0;34m'Grade'\u001b[0m\u001b[0;34m)\u001b[0m\u001b[0;34m\u001b[0m\u001b[0;34m\u001b[0m\u001b[0m\n\u001b[1;32m      7\u001b[0m \u001b[0;34m\u001b[0m\u001b[0m\n\u001b[0;32m----> 8\u001b[0;31m \u001b[0mexam_scores\u001b[0m\u001b[0;34m.\u001b[0m\u001b[0mvalue_counts\u001b[0m\u001b[0;34m(\u001b[0m\u001b[0;34m)\u001b[0m\u001b[0;34m.\u001b[0m\u001b[0mplot\u001b[0m\u001b[0;34m(\u001b[0m\u001b[0mkind\u001b[0m\u001b[0;34m=\u001b[0m\u001b[0;34m'bar'\u001b[0m\u001b[0;34m,\u001b[0m \u001b[0mbins\u001b[0m\u001b[0;34m=\u001b[0m\u001b[0;34m[\u001b[0m\u001b[0;36m0\u001b[0m\u001b[0;34m,\u001b[0m\u001b[0;36m10\u001b[0m\u001b[0;34m,\u001b[0m\u001b[0;36m20\u001b[0m\u001b[0;34m]\u001b[0m\u001b[0;34m)\u001b[0m\u001b[0;34m\u001b[0m\u001b[0;34m\u001b[0m\u001b[0m\n\u001b[0m\u001b[1;32m      9\u001b[0m \u001b[0;34m\u001b[0m\u001b[0m\n\u001b[1;32m     10\u001b[0m \u001b[0mplt\u001b[0m\u001b[0;34m.\u001b[0m\u001b[0mshow\u001b[0m\u001b[0;34m(\u001b[0m\u001b[0;34m)\u001b[0m\u001b[0;34m\u001b[0m\u001b[0;34m\u001b[0m\u001b[0m\n",
      "\u001b[0;32m/opt/homebrew/anaconda3/lib/python3.8/site-packages/pandas/plotting/_core.py\u001b[0m in \u001b[0;36m__call__\u001b[0;34m(self, *args, **kwargs)\u001b[0m\n\u001b[1;32m    953\u001b[0m                     \u001b[0mdata\u001b[0m\u001b[0;34m.\u001b[0m\u001b[0mcolumns\u001b[0m \u001b[0;34m=\u001b[0m \u001b[0mlabel_name\u001b[0m\u001b[0;34m\u001b[0m\u001b[0;34m\u001b[0m\u001b[0m\n\u001b[1;32m    954\u001b[0m \u001b[0;34m\u001b[0m\u001b[0m\n\u001b[0;32m--> 955\u001b[0;31m         \u001b[0;32mreturn\u001b[0m \u001b[0mplot_backend\u001b[0m\u001b[0;34m.\u001b[0m\u001b[0mplot\u001b[0m\u001b[0;34m(\u001b[0m\u001b[0mdata\u001b[0m\u001b[0;34m,\u001b[0m \u001b[0mkind\u001b[0m\u001b[0;34m=\u001b[0m\u001b[0mkind\u001b[0m\u001b[0;34m,\u001b[0m \u001b[0;34m**\u001b[0m\u001b[0mkwargs\u001b[0m\u001b[0;34m)\u001b[0m\u001b[0;34m\u001b[0m\u001b[0;34m\u001b[0m\u001b[0m\n\u001b[0m\u001b[1;32m    956\u001b[0m \u001b[0;34m\u001b[0m\u001b[0m\n\u001b[1;32m    957\u001b[0m     \u001b[0m__call__\u001b[0m\u001b[0;34m.\u001b[0m\u001b[0m__doc__\u001b[0m \u001b[0;34m=\u001b[0m \u001b[0m__doc__\u001b[0m\u001b[0;34m\u001b[0m\u001b[0;34m\u001b[0m\u001b[0m\n",
      "\u001b[0;32m/opt/homebrew/anaconda3/lib/python3.8/site-packages/pandas/plotting/_matplotlib/__init__.py\u001b[0m in \u001b[0;36mplot\u001b[0;34m(data, kind, **kwargs)\u001b[0m\n\u001b[1;32m     59\u001b[0m             \u001b[0mkwargs\u001b[0m\u001b[0;34m[\u001b[0m\u001b[0;34m\"ax\"\u001b[0m\u001b[0;34m]\u001b[0m \u001b[0;34m=\u001b[0m \u001b[0mgetattr\u001b[0m\u001b[0;34m(\u001b[0m\u001b[0max\u001b[0m\u001b[0;34m,\u001b[0m \u001b[0;34m\"left_ax\"\u001b[0m\u001b[0;34m,\u001b[0m \u001b[0max\u001b[0m\u001b[0;34m)\u001b[0m\u001b[0;34m\u001b[0m\u001b[0;34m\u001b[0m\u001b[0m\n\u001b[1;32m     60\u001b[0m     \u001b[0mplot_obj\u001b[0m \u001b[0;34m=\u001b[0m \u001b[0mPLOT_CLASSES\u001b[0m\u001b[0;34m[\u001b[0m\u001b[0mkind\u001b[0m\u001b[0;34m]\u001b[0m\u001b[0;34m(\u001b[0m\u001b[0mdata\u001b[0m\u001b[0;34m,\u001b[0m \u001b[0;34m**\u001b[0m\u001b[0mkwargs\u001b[0m\u001b[0;34m)\u001b[0m\u001b[0;34m\u001b[0m\u001b[0;34m\u001b[0m\u001b[0m\n\u001b[0;32m---> 61\u001b[0;31m     \u001b[0mplot_obj\u001b[0m\u001b[0;34m.\u001b[0m\u001b[0mgenerate\u001b[0m\u001b[0;34m(\u001b[0m\u001b[0;34m)\u001b[0m\u001b[0;34m\u001b[0m\u001b[0;34m\u001b[0m\u001b[0m\n\u001b[0m\u001b[1;32m     62\u001b[0m     \u001b[0mplot_obj\u001b[0m\u001b[0;34m.\u001b[0m\u001b[0mdraw\u001b[0m\u001b[0;34m(\u001b[0m\u001b[0;34m)\u001b[0m\u001b[0;34m\u001b[0m\u001b[0;34m\u001b[0m\u001b[0m\n\u001b[1;32m     63\u001b[0m     \u001b[0;32mreturn\u001b[0m \u001b[0mplot_obj\u001b[0m\u001b[0;34m.\u001b[0m\u001b[0mresult\u001b[0m\u001b[0;34m\u001b[0m\u001b[0;34m\u001b[0m\u001b[0m\n",
      "\u001b[0;32m/opt/homebrew/anaconda3/lib/python3.8/site-packages/pandas/plotting/_matplotlib/core.py\u001b[0m in \u001b[0;36mgenerate\u001b[0;34m(self)\u001b[0m\n\u001b[1;32m    278\u001b[0m         \u001b[0mself\u001b[0m\u001b[0;34m.\u001b[0m\u001b[0m_compute_plot_data\u001b[0m\u001b[0;34m(\u001b[0m\u001b[0;34m)\u001b[0m\u001b[0;34m\u001b[0m\u001b[0;34m\u001b[0m\u001b[0m\n\u001b[1;32m    279\u001b[0m         \u001b[0mself\u001b[0m\u001b[0;34m.\u001b[0m\u001b[0m_setup_subplots\u001b[0m\u001b[0;34m(\u001b[0m\u001b[0;34m)\u001b[0m\u001b[0;34m\u001b[0m\u001b[0;34m\u001b[0m\u001b[0m\n\u001b[0;32m--> 280\u001b[0;31m         \u001b[0mself\u001b[0m\u001b[0;34m.\u001b[0m\u001b[0m_make_plot\u001b[0m\u001b[0;34m(\u001b[0m\u001b[0;34m)\u001b[0m\u001b[0;34m\u001b[0m\u001b[0;34m\u001b[0m\u001b[0m\n\u001b[0m\u001b[1;32m    281\u001b[0m         \u001b[0mself\u001b[0m\u001b[0;34m.\u001b[0m\u001b[0m_add_table\u001b[0m\u001b[0;34m(\u001b[0m\u001b[0;34m)\u001b[0m\u001b[0;34m\u001b[0m\u001b[0;34m\u001b[0m\u001b[0m\n\u001b[1;32m    282\u001b[0m         \u001b[0mself\u001b[0m\u001b[0;34m.\u001b[0m\u001b[0m_make_legend\u001b[0m\u001b[0;34m(\u001b[0m\u001b[0;34m)\u001b[0m\u001b[0;34m\u001b[0m\u001b[0;34m\u001b[0m\u001b[0m\n",
      "\u001b[0;32m/opt/homebrew/anaconda3/lib/python3.8/site-packages/pandas/plotting/_matplotlib/core.py\u001b[0m in \u001b[0;36m_make_plot\u001b[0;34m(self)\u001b[0m\n\u001b[1;32m   1473\u001b[0m             \u001b[0;32melse\u001b[0m\u001b[0;34m:\u001b[0m\u001b[0;34m\u001b[0m\u001b[0;34m\u001b[0m\u001b[0m\n\u001b[1;32m   1474\u001b[0m                 \u001b[0mw\u001b[0m \u001b[0;34m=\u001b[0m \u001b[0mself\u001b[0m\u001b[0;34m.\u001b[0m\u001b[0mbar_width\u001b[0m \u001b[0;34m/\u001b[0m \u001b[0mK\u001b[0m\u001b[0;34m\u001b[0m\u001b[0;34m\u001b[0m\u001b[0m\n\u001b[0;32m-> 1475\u001b[0;31m                 rect = self._plot(\n\u001b[0m\u001b[1;32m   1476\u001b[0m                     \u001b[0max\u001b[0m\u001b[0;34m,\u001b[0m\u001b[0;34m\u001b[0m\u001b[0;34m\u001b[0m\u001b[0m\n\u001b[1;32m   1477\u001b[0m                     \u001b[0mself\u001b[0m\u001b[0;34m.\u001b[0m\u001b[0max_pos\u001b[0m \u001b[0;34m+\u001b[0m \u001b[0;34m(\u001b[0m\u001b[0mi\u001b[0m \u001b[0;34m+\u001b[0m \u001b[0;36m0.5\u001b[0m\u001b[0;34m)\u001b[0m \u001b[0;34m*\u001b[0m \u001b[0mw\u001b[0m\u001b[0;34m,\u001b[0m\u001b[0;34m\u001b[0m\u001b[0;34m\u001b[0m\u001b[0m\n",
      "\u001b[0;32m/opt/homebrew/anaconda3/lib/python3.8/site-packages/pandas/plotting/_matplotlib/core.py\u001b[0m in \u001b[0;36m_plot\u001b[0;34m(cls, ax, x, y, w, start, log, **kwds)\u001b[0m\n\u001b[1;32m   1404\u001b[0m     \u001b[0;34m@\u001b[0m\u001b[0mclassmethod\u001b[0m\u001b[0;34m\u001b[0m\u001b[0;34m\u001b[0m\u001b[0m\n\u001b[1;32m   1405\u001b[0m     \u001b[0;32mdef\u001b[0m \u001b[0m_plot\u001b[0m\u001b[0;34m(\u001b[0m\u001b[0mcls\u001b[0m\u001b[0;34m,\u001b[0m \u001b[0max\u001b[0m\u001b[0;34m:\u001b[0m \u001b[0;34m\"Axes\"\u001b[0m\u001b[0;34m,\u001b[0m \u001b[0mx\u001b[0m\u001b[0;34m,\u001b[0m \u001b[0my\u001b[0m\u001b[0;34m,\u001b[0m \u001b[0mw\u001b[0m\u001b[0;34m,\u001b[0m \u001b[0mstart\u001b[0m\u001b[0;34m=\u001b[0m\u001b[0;36m0\u001b[0m\u001b[0;34m,\u001b[0m \u001b[0mlog\u001b[0m\u001b[0;34m=\u001b[0m\u001b[0;32mFalse\u001b[0m\u001b[0;34m,\u001b[0m \u001b[0;34m**\u001b[0m\u001b[0mkwds\u001b[0m\u001b[0;34m)\u001b[0m\u001b[0;34m:\u001b[0m\u001b[0;34m\u001b[0m\u001b[0;34m\u001b[0m\u001b[0m\n\u001b[0;32m-> 1406\u001b[0;31m         \u001b[0;32mreturn\u001b[0m \u001b[0max\u001b[0m\u001b[0;34m.\u001b[0m\u001b[0mbar\u001b[0m\u001b[0;34m(\u001b[0m\u001b[0mx\u001b[0m\u001b[0;34m,\u001b[0m \u001b[0my\u001b[0m\u001b[0;34m,\u001b[0m \u001b[0mw\u001b[0m\u001b[0;34m,\u001b[0m \u001b[0mbottom\u001b[0m\u001b[0;34m=\u001b[0m\u001b[0mstart\u001b[0m\u001b[0;34m,\u001b[0m \u001b[0mlog\u001b[0m\u001b[0;34m=\u001b[0m\u001b[0mlog\u001b[0m\u001b[0;34m,\u001b[0m \u001b[0;34m**\u001b[0m\u001b[0mkwds\u001b[0m\u001b[0;34m)\u001b[0m\u001b[0;34m\u001b[0m\u001b[0;34m\u001b[0m\u001b[0m\n\u001b[0m\u001b[1;32m   1407\u001b[0m \u001b[0;34m\u001b[0m\u001b[0m\n\u001b[1;32m   1408\u001b[0m     \u001b[0;34m@\u001b[0m\u001b[0mproperty\u001b[0m\u001b[0;34m\u001b[0m\u001b[0;34m\u001b[0m\u001b[0m\n",
      "\u001b[0;32m/opt/homebrew/anaconda3/lib/python3.8/site-packages/matplotlib/__init__.py\u001b[0m in \u001b[0;36minner\u001b[0;34m(ax, data, *args, **kwargs)\u001b[0m\n\u001b[1;32m   1445\u001b[0m     \u001b[0;32mdef\u001b[0m \u001b[0minner\u001b[0m\u001b[0;34m(\u001b[0m\u001b[0max\u001b[0m\u001b[0;34m,\u001b[0m \u001b[0;34m*\u001b[0m\u001b[0margs\u001b[0m\u001b[0;34m,\u001b[0m \u001b[0mdata\u001b[0m\u001b[0;34m=\u001b[0m\u001b[0;32mNone\u001b[0m\u001b[0;34m,\u001b[0m \u001b[0;34m**\u001b[0m\u001b[0mkwargs\u001b[0m\u001b[0;34m)\u001b[0m\u001b[0;34m:\u001b[0m\u001b[0;34m\u001b[0m\u001b[0;34m\u001b[0m\u001b[0m\n\u001b[1;32m   1446\u001b[0m         \u001b[0;32mif\u001b[0m \u001b[0mdata\u001b[0m \u001b[0;32mis\u001b[0m \u001b[0;32mNone\u001b[0m\u001b[0;34m:\u001b[0m\u001b[0;34m\u001b[0m\u001b[0;34m\u001b[0m\u001b[0m\n\u001b[0;32m-> 1447\u001b[0;31m             \u001b[0;32mreturn\u001b[0m \u001b[0mfunc\u001b[0m\u001b[0;34m(\u001b[0m\u001b[0max\u001b[0m\u001b[0;34m,\u001b[0m \u001b[0;34m*\u001b[0m\u001b[0mmap\u001b[0m\u001b[0;34m(\u001b[0m\u001b[0msanitize_sequence\u001b[0m\u001b[0;34m,\u001b[0m \u001b[0margs\u001b[0m\u001b[0;34m)\u001b[0m\u001b[0;34m,\u001b[0m \u001b[0;34m**\u001b[0m\u001b[0mkwargs\u001b[0m\u001b[0;34m)\u001b[0m\u001b[0;34m\u001b[0m\u001b[0;34m\u001b[0m\u001b[0m\n\u001b[0m\u001b[1;32m   1448\u001b[0m \u001b[0;34m\u001b[0m\u001b[0m\n\u001b[1;32m   1449\u001b[0m         \u001b[0mbound\u001b[0m \u001b[0;34m=\u001b[0m \u001b[0mnew_sig\u001b[0m\u001b[0;34m.\u001b[0m\u001b[0mbind\u001b[0m\u001b[0;34m(\u001b[0m\u001b[0max\u001b[0m\u001b[0;34m,\u001b[0m \u001b[0;34m*\u001b[0m\u001b[0margs\u001b[0m\u001b[0;34m,\u001b[0m \u001b[0;34m**\u001b[0m\u001b[0mkwargs\u001b[0m\u001b[0;34m)\u001b[0m\u001b[0;34m\u001b[0m\u001b[0;34m\u001b[0m\u001b[0m\n",
      "\u001b[0;32m/opt/homebrew/anaconda3/lib/python3.8/site-packages/matplotlib/axes/_axes.py\u001b[0m in \u001b[0;36mbar\u001b[0;34m(self, x, height, width, bottom, align, **kwargs)\u001b[0m\n\u001b[1;32m   2486\u001b[0m                 \u001b[0mlabel\u001b[0m\u001b[0;34m=\u001b[0m\u001b[0;34m'_nolegend_'\u001b[0m\u001b[0;34m,\u001b[0m\u001b[0;34m\u001b[0m\u001b[0;34m\u001b[0m\u001b[0m\n\u001b[1;32m   2487\u001b[0m                 )\n\u001b[0;32m-> 2488\u001b[0;31m             \u001b[0mr\u001b[0m\u001b[0;34m.\u001b[0m\u001b[0mupdate\u001b[0m\u001b[0;34m(\u001b[0m\u001b[0mkwargs\u001b[0m\u001b[0;34m)\u001b[0m\u001b[0;34m\u001b[0m\u001b[0;34m\u001b[0m\u001b[0m\n\u001b[0m\u001b[1;32m   2489\u001b[0m             \u001b[0mr\u001b[0m\u001b[0;34m.\u001b[0m\u001b[0mget_path\u001b[0m\u001b[0;34m(\u001b[0m\u001b[0;34m)\u001b[0m\u001b[0;34m.\u001b[0m\u001b[0m_interpolation_steps\u001b[0m \u001b[0;34m=\u001b[0m \u001b[0;36m100\u001b[0m\u001b[0;34m\u001b[0m\u001b[0;34m\u001b[0m\u001b[0m\n\u001b[1;32m   2490\u001b[0m             \u001b[0;32mif\u001b[0m \u001b[0morientation\u001b[0m \u001b[0;34m==\u001b[0m \u001b[0;34m'vertical'\u001b[0m\u001b[0;34m:\u001b[0m\u001b[0;34m\u001b[0m\u001b[0;34m\u001b[0m\u001b[0m\n",
      "\u001b[0;32m/opt/homebrew/anaconda3/lib/python3.8/site-packages/matplotlib/artist.py\u001b[0m in \u001b[0;36mupdate\u001b[0;34m(self, props)\u001b[0m\n\u001b[1;32m    994\u001b[0m                     \u001b[0mfunc\u001b[0m \u001b[0;34m=\u001b[0m \u001b[0mgetattr\u001b[0m\u001b[0;34m(\u001b[0m\u001b[0mself\u001b[0m\u001b[0;34m,\u001b[0m \u001b[0;34mf\"set_{k}\"\u001b[0m\u001b[0;34m,\u001b[0m \u001b[0;32mNone\u001b[0m\u001b[0;34m)\u001b[0m\u001b[0;34m\u001b[0m\u001b[0;34m\u001b[0m\u001b[0m\n\u001b[1;32m    995\u001b[0m                     \u001b[0;32mif\u001b[0m \u001b[0;32mnot\u001b[0m \u001b[0mcallable\u001b[0m\u001b[0;34m(\u001b[0m\u001b[0mfunc\u001b[0m\u001b[0;34m)\u001b[0m\u001b[0;34m:\u001b[0m\u001b[0;34m\u001b[0m\u001b[0;34m\u001b[0m\u001b[0m\n\u001b[0;32m--> 996\u001b[0;31m                         raise AttributeError(f\"{type(self).__name__!r} object \"\n\u001b[0m\u001b[1;32m    997\u001b[0m                                              f\"has no property {k!r}\")\n\u001b[1;32m    998\u001b[0m                     \u001b[0mret\u001b[0m\u001b[0;34m.\u001b[0m\u001b[0mappend\u001b[0m\u001b[0;34m(\u001b[0m\u001b[0mfunc\u001b[0m\u001b[0;34m(\u001b[0m\u001b[0mv\u001b[0m\u001b[0;34m)\u001b[0m\u001b[0;34m)\u001b[0m\u001b[0;34m\u001b[0m\u001b[0;34m\u001b[0m\u001b[0m\n",
      "\u001b[0;31mAttributeError\u001b[0m: 'Rectangle' object has no property 'bins'"
     ]
    },
    {
     "data": {
      "image/png": "[encoded data removed]",
      "text/plain": [
       "<Figure size 432x288 with 1 Axes>"
      ]
     },
     "metadata": {
      "needs_background": "light"
     },
     "output_type": "display_data"
    }
   ],
   "source": [
    "pd.cut(exam_scores, 6).value_counts()\n",
    "\n",
    "plt.title('Exam Scores')\n",
    "plt.xticks(rotation=0)\n",
    "plt.xlabel('Number of Students')\n",
    "plt.ylabel('Grade')\n",
    "\n",
    "exam_scores.value_counts().plot(kind='bar', bins=[0,10,20])\n",
    "\n",
    "plt.show()"
   ]
  },
  {
   "cell_type": "code",
   "execution_count": null,
   "id": "d5ff82b8",
   "metadata": {},
   "outputs": [],
   "source": []
  }
 ],
 "metadata": {
  "kernelspec": {
   "display_name": "Python 3",
   "language": "python",
   "name": "python3"
  },
  "language_info": {
   "codemirror_mode": {
    "name": "ipython",
    "version": 3
   },
   "file_extension": ".py",
   "mimetype": "text/x-python",
   "name": "python",
   "nbconvert_exporter": "python",
   "pygments_lexer": "ipython3",
   "version": "3.8.8"
  }
 },
 "nbformat": 4,
 "nbformat_minor": 5
}
