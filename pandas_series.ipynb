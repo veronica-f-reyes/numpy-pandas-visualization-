{
 "cells": [
  {
   "cell_type": "markdown",
   "id": "7941eabc",
   "metadata": {},
   "source": [
    "## Exercises Part I\n",
    "\n",
    "Use pandas to create a Series named fruits from the following list:\n",
    "\n",
    "[\"kiwi\", \"mango\", \"strawberry\", \"pineapple\", \"gala apple\", \"honeycrisp apple\", \"tomato\", \"watermelon\", \"honeydew\", \"kiwi\", \"kiwi\", \"kiwi\", \"mango\", \"blueberry\", \"blackberry\", \"gooseberry\", \"papaya\"]\n",
    "\n",
    "Use Series attributes and methods to explore your fruits Series."
   ]
  },
  {
   "cell_type": "code",
   "execution_count": 2,
   "id": "7874e5b5",
   "metadata": {},
   "outputs": [],
   "source": [
    "import numpy as np\n",
    "import pandas as pd\n",
    "\n",
    "import matplotlib.pyplot as plt\n",
    "\n",
    "fruits_series = pd.Series([\"kiwi\", \"mango\", \"strawberry\", \"pineapple\", \"gala apple\", \"honeycrisp apple\", \"tomato\", \"watermelon\", \"honeydew\", \"kiwi\", \"kiwi\", \"kiwi\", \"mango\", \"blueberry\", \"blackberry\", \"gooseberry\", \"papaya\"])"
   ]
  },
  {
   "cell_type": "code",
   "execution_count": null,
   "id": "ebb3cca5",
   "metadata": {},
   "outputs": [],
   "source": [
    "fruits_series"
   ]
  },
  {
   "cell_type": "markdown",
   "id": "37b95f17",
   "metadata": {},
   "source": [
    "### 1. Determine the number of elements in fruits."
   ]
  },
  {
   "cell_type": "code",
   "execution_count": null,
   "id": "66e54657",
   "metadata": {},
   "outputs": [],
   "source": [
    "fruits_series.size"
   ]
  },
  {
   "cell_type": "markdown",
   "id": "8901fc39",
   "metadata": {},
   "source": [
    "### 2. Output only the index from fruits."
   ]
  },
  {
   "cell_type": "code",
   "execution_count": null,
   "id": "24f622dc",
   "metadata": {},
   "outputs": [],
   "source": [
    "fruits_series.index\n",
    "\n"
   ]
  },
  {
   "cell_type": "code",
   "execution_count": null,
   "id": "35f51d30",
   "metadata": {},
   "outputs": [],
   "source": [
    "fruits_series.index.tolist()"
   ]
  },
  {
   "cell_type": "markdown",
   "id": "3bf5efb1",
   "metadata": {},
   "source": [
    "### 3. Output only the values from fruits."
   ]
  },
  {
   "cell_type": "code",
   "execution_count": null,
   "id": "2b488f2d",
   "metadata": {},
   "outputs": [],
   "source": [
    "fruits_series.values"
   ]
  },
  {
   "cell_type": "code",
   "execution_count": null,
   "id": "85c1db90",
   "metadata": {},
   "outputs": [],
   "source": [
    "fruits_series.values.tolist()"
   ]
  },
  {
   "cell_type": "markdown",
   "id": "0ddcd949",
   "metadata": {},
   "source": [
    "### 4. Confirm the data type of the values in fruits."
   ]
  },
  {
   "cell_type": "code",
   "execution_count": null,
   "id": "d83c3887",
   "metadata": {},
   "outputs": [],
   "source": [
    "fruits_series.dtype"
   ]
  },
  {
   "cell_type": "code",
   "execution_count": null,
   "id": "918cb3fe",
   "metadata": {},
   "outputs": [],
   "source": [
    "fruits_series"
   ]
  },
  {
   "cell_type": "markdown",
   "id": "2805519a",
   "metadata": {},
   "source": [
    "### 5. a.) Output only the first five values from fruits. "
   ]
  },
  {
   "cell_type": "code",
   "execution_count": null,
   "id": "5d7cbb55",
   "metadata": {},
   "outputs": [],
   "source": [
    "fruits_series.head(5)"
   ]
  },
  {
   "cell_type": "markdown",
   "id": "685f5cad",
   "metadata": {},
   "source": [
    "### 5. b.) Output the last three values. "
   ]
  },
  {
   "cell_type": "code",
   "execution_count": null,
   "id": "36e7c42f",
   "metadata": {},
   "outputs": [],
   "source": [
    "fruits_series.tail(3)"
   ]
  },
  {
   "cell_type": "markdown",
   "id": "ce781480",
   "metadata": {},
   "source": [
    "### 5. c.) Output two random values from fruits."
   ]
  },
  {
   "cell_type": "code",
   "execution_count": null,
   "id": "07b4a1a2",
   "metadata": {},
   "outputs": [],
   "source": [
    "fruits_series.sample(2) "
   ]
  },
  {
   "cell_type": "markdown",
   "id": "38b22e3c",
   "metadata": {},
   "source": [
    "### 6. Run the .describe() on fruits to see what information it returns when called on a Series with string values."
   ]
  },
  {
   "cell_type": "code",
   "execution_count": null,
   "id": "1b281a1e",
   "metadata": {},
   "outputs": [],
   "source": [
    "fruits_series.describe()"
   ]
  },
  {
   "cell_type": "markdown",
   "id": "74aa015f",
   "metadata": {},
   "source": [
    "### 7. Run the code necessary to produce only the unique string values from fruits."
   ]
  },
  {
   "cell_type": "code",
   "execution_count": null,
   "id": "2cb641ae",
   "metadata": {},
   "outputs": [],
   "source": [
    "fruits_series.value_counts()"
   ]
  },
  {
   "cell_type": "code",
   "execution_count": null,
   "id": "43e49b98",
   "metadata": {},
   "outputs": [],
   "source": [
    "fruits_series.unique()"
   ]
  },
  {
   "cell_type": "code",
   "execution_count": null,
   "id": "cf5e641a",
   "metadata": {},
   "outputs": [],
   "source": [
    "fruits_series.nunique()"
   ]
  },
  {
   "cell_type": "markdown",
   "id": "e3169a85",
   "metadata": {},
   "source": [
    "### 8. Determine how many times each unique string value occurs in fruits."
   ]
  },
  {
   "cell_type": "code",
   "execution_count": null,
   "id": "ce9fd522",
   "metadata": {},
   "outputs": [],
   "source": [
    "fruits_series.value_counts()"
   ]
  },
  {
   "cell_type": "markdown",
   "id": "bf41a1d2",
   "metadata": {},
   "source": [
    "### 9. Determine the string value that occurs most frequently in fruits.\n",
    "\n"
   ]
  },
  {
   "cell_type": "code",
   "execution_count": null,
   "id": "2d823334",
   "metadata": {},
   "outputs": [],
   "source": [
    "fruits_series.value_counts()"
   ]
  },
  {
   "cell_type": "code",
   "execution_count": null,
   "id": "0b6832da",
   "metadata": {},
   "outputs": [],
   "source": [
    "fruits_series.value_counts().head(1)"
   ]
  },
  {
   "cell_type": "code",
   "execution_count": null,
   "id": "dcc0e64b",
   "metadata": {},
   "outputs": [],
   "source": [
    "fruits_series.value_counts().idxmax()"
   ]
  },
  {
   "cell_type": "code",
   "execution_count": null,
   "id": "561232be",
   "metadata": {},
   "outputs": [],
   "source": [
    "fruits_series.value_counts().nlargest(n=1, keep ='all')"
   ]
  },
  {
   "cell_type": "markdown",
   "id": "dcabe2d6",
   "metadata": {},
   "source": [
    "### 10. Determine the string value that occurs least frequently in fruits."
   ]
  },
  {
   "cell_type": "code",
   "execution_count": null,
   "id": "7e209271",
   "metadata": {},
   "outputs": [],
   "source": [
    "fruits_series.value_counts()\n",
    "\n",
    "#fruits_series.nsmallest(n=5, keep='first')"
   ]
  },
  {
   "cell_type": "code",
   "execution_count": null,
   "id": "71bf7352",
   "metadata": {},
   "outputs": [],
   "source": [
    "fruits_series.value_counts().tail(11)"
   ]
  },
  {
   "cell_type": "code",
   "execution_count": null,
   "id": "b294b3aa",
   "metadata": {},
   "outputs": [],
   "source": [
    "fruits_series.value_counts().nsmallest(n=1, keep='all')"
   ]
  },
  {
   "cell_type": "markdown",
   "id": "e73d7e6d",
   "metadata": {},
   "source": [
    "## Exercises Part II"
   ]
  },
  {
   "cell_type": "markdown",
   "id": "b08cd8f5",
   "metadata": {},
   "source": [
    "### 1. Capitalize all the string values in fruits."
   ]
  },
  {
   "cell_type": "code",
   "execution_count": null,
   "id": "6e7a8bb7",
   "metadata": {},
   "outputs": [],
   "source": [
    "fruits_series.str.capitalize()"
   ]
  },
  {
   "cell_type": "markdown",
   "id": "3b769d21",
   "metadata": {},
   "source": [
    "### 2. Count the letter \"a\" in all the string values (use string vectorization)."
   ]
  },
  {
   "cell_type": "code",
   "execution_count": null,
   "id": "3f07f7f8",
   "metadata": {},
   "outputs": [],
   "source": [
    "fruits_series.apply(lambda row: row.count('a'))"
   ]
  },
  {
   "cell_type": "code",
   "execution_count": null,
   "id": "d5d89476",
   "metadata": {},
   "outputs": [],
   "source": [
    "fruits_series.str.count('a')"
   ]
  },
  {
   "cell_type": "markdown",
   "id": "12af92fe",
   "metadata": {},
   "source": [
    "### 3. Output the number of vowels in each and every string value."
   ]
  },
  {
   "cell_type": "code",
   "execution_count": null,
   "id": "7827f8d1",
   "metadata": {},
   "outputs": [],
   "source": [
    "fruits_series.str.count('[aeiou]')"
   ]
  },
  {
   "cell_type": "markdown",
   "id": "d2e5e17c",
   "metadata": {},
   "source": [
    "### 4. Write the code to get the longest string value from fruits.\n",
    "\n"
   ]
  },
  {
   "cell_type": "code",
   "execution_count": null,
   "id": "3d1b1ea7",
   "metadata": {},
   "outputs": [],
   "source": [
    "fruits_series.str.len().max()"
   ]
  },
  {
   "cell_type": "code",
   "execution_count": null,
   "id": "142eb086",
   "metadata": {},
   "outputs": [],
   "source": []
  },
  {
   "cell_type": "markdown",
   "id": "e4a7943f",
   "metadata": {},
   "source": [
    "### 5. Write the code to get the string values with 5 or more letters in the name.\n",
    "\n"
   ]
  },
  {
   "cell_type": "code",
   "execution_count": null,
   "id": "df28a5ef",
   "metadata": {},
   "outputs": [],
   "source": [
    "fruits_series[fruits_series.apply(lambda x: len(x) > 5)]"
   ]
  },
  {
   "cell_type": "markdown",
   "id": "f41cbf51",
   "metadata": {},
   "source": [
    "### 6. Use the .apply method with a lambda function to find the fruit(s) containing the letter \"o\" two or more times."
   ]
  },
  {
   "cell_type": "code",
   "execution_count": null,
   "id": "55e20916",
   "metadata": {},
   "outputs": [],
   "source": [
    "fruits_series[fruits_series.apply(lambda x: x.count('o')>= 2)]"
   ]
  },
  {
   "cell_type": "markdown",
   "id": "7f38788d",
   "metadata": {},
   "source": [
    "### 7. Write the code to get only the string values containing the substring \"berry\"."
   ]
  },
  {
   "cell_type": "code",
   "execution_count": null,
   "id": "a999d556",
   "metadata": {},
   "outputs": [],
   "source": [
    "fruits_series[fruits_series.str.contains(\"berry\")]"
   ]
  },
  {
   "cell_type": "markdown",
   "id": "15d892d2",
   "metadata": {},
   "source": [
    "### 8. Write the code to get only the string values containing the substring \"apple\"."
   ]
  },
  {
   "cell_type": "code",
   "execution_count": null,
   "id": "c9e1d37e",
   "metadata": {},
   "outputs": [],
   "source": [
    "fruits_series[fruits_series.str.contains(\"apple\")]\n"
   ]
  },
  {
   "cell_type": "markdown",
   "id": "249f729d",
   "metadata": {},
   "source": [
    "### 9. Which string value contains the most vowels?"
   ]
  },
  {
   "cell_type": "code",
   "execution_count": null,
   "id": "dee23101",
   "metadata": {},
   "outputs": [],
   "source": [
    "vowel_counts = fruits_series.str.count('[aeiou]')\n",
    "\n",
    "max_vowels = vowel_counts.max\n",
    "max_vowels\n",
    "\n",
    "\n",
    "fruits_series[fruits_series.apply(max_vowels)]"
   ]
  },
  {
   "cell_type": "markdown",
   "id": "cc3870ac",
   "metadata": {},
   "source": [
    "# Exercises Part III"
   ]
  },
  {
   "cell_type": "markdown",
   "id": "c54fd2dc",
   "metadata": {},
   "source": [
    "Use pandas to create a Series named letters from the following string:\n",
    "\n",
    "\n",
    "    'hnvidduckkqxwymbimkccexbkmqygkxoyndmcxnwqarhyffsjpsrabtjzsypmzadfavyrnndndvswreauxovncxtwzpwejilzjrmmbbgbyxvjtewqthafnbkqplarokkyydtubbmnexoypulzwfhqvckdpqtpoppzqrmcvhhpwgjwupgzhiofohawytlsiyecuproguy'"
   ]
  },
  {
   "cell_type": "code",
   "execution_count": 6,
   "id": "0bd409db",
   "metadata": {},
   "outputs": [],
   "source": [
    "letter_list = list('hnvidduckkqxwymbimkccexbkmqygkxoyndmcxnwqarhyffsjpsrabtjzsypmzadfavyrnndndvswreauxovncxtwzpwejilzjrmmbbgbyxvjtewqthafnbkqplarokkyydtubbmnexoypulzwfhqvckdpqtpoppzqrmcvhhpwgjwupgzhiofohawytlsiyecuproguy')\n",
    "\n",
    "letter_series = pd.Series(letter_list)"
   ]
  },
  {
   "cell_type": "code",
   "execution_count": 7,
   "id": "7a4b9202",
   "metadata": {},
   "outputs": [
    {
     "data": {
      "text/plain": [
       "<bound method NDFrame.describe of 0      h\n",
       "1      n\n",
       "2      v\n",
       "3      i\n",
       "4      d\n",
       "      ..\n",
       "195    r\n",
       "196    o\n",
       "197    g\n",
       "198    u\n",
       "199    y\n",
       "Length: 200, dtype: object>"
      ]
     },
     "execution_count": 7,
     "metadata": {},
     "output_type": "execute_result"
    }
   ],
   "source": [
    "letter_series.describe"
   ]
  },
  {
   "cell_type": "markdown",
   "id": "09a6b581",
   "metadata": {},
   "source": [
    "### 1. Which letter occurs the most frequently in the letters Series?"
   ]
  },
  {
   "cell_type": "code",
   "execution_count": 9,
   "id": "648f4dbb",
   "metadata": {},
   "outputs": [
    {
     "data": {
      "text/plain": [
       "y    13\n",
       "dtype: int64"
      ]
     },
     "execution_count": 9,
     "metadata": {},
     "output_type": "execute_result"
    }
   ],
   "source": [
    "letter_series.value_counts().head(1)"
   ]
  },
  {
   "cell_type": "markdown",
   "id": "9a552b96",
   "metadata": {},
   "source": [
    "### 2. Which letter occurs the Least frequently?"
   ]
  },
  {
   "cell_type": "code",
   "execution_count": 10,
   "id": "fe677963",
   "metadata": {},
   "outputs": [
    {
     "data": {
      "text/plain": [
       "l    4\n",
       "dtype: int64"
      ]
     },
     "execution_count": 10,
     "metadata": {},
     "output_type": "execute_result"
    }
   ],
   "source": [
    "\n",
    "letter_series.value_counts().tail(1)"
   ]
  },
  {
   "cell_type": "markdown",
   "id": "983c9758",
   "metadata": {},
   "source": [
    "### 3. How many vowels are in the Series?"
   ]
  },
  {
   "cell_type": "code",
   "execution_count": 14,
   "id": "4b22ea3b",
   "metadata": {},
   "outputs": [
    {
     "data": {
      "text/plain": [
       "34"
      ]
     },
     "execution_count": 14,
     "metadata": {},
     "output_type": "execute_result"
    }
   ],
   "source": [
    "total_vowels = letter_series.str.count('[aeiou]').sum()\n",
    "total_vowels"
   ]
  },
  {
   "cell_type": "markdown",
   "id": "12303260",
   "metadata": {},
   "source": [
    "### 4. How many consonants are in the Series?"
   ]
  },
  {
   "cell_type": "code",
   "execution_count": 16,
   "id": "9d243de0",
   "metadata": {},
   "outputs": [
    {
     "data": {
      "text/plain": [
       "200"
      ]
     },
     "execution_count": 16,
     "metadata": {},
     "output_type": "execute_result"
    }
   ],
   "source": [
    "total_letters_in_string = letter_series.size\n",
    "total_letters_in_string"
   ]
  },
  {
   "cell_type": "code",
   "execution_count": 17,
   "id": "6ddf5042",
   "metadata": {},
   "outputs": [
    {
     "data": {
      "text/plain": [
       "166"
      ]
     },
     "execution_count": 17,
     "metadata": {},
     "output_type": "execute_result"
    }
   ],
   "source": [
    "total_consonants = total_letters_in_string - total_vowels\n",
    "total_consonants"
   ]
  },
  {
   "cell_type": "markdown",
   "id": "13ca5a2c",
   "metadata": {},
   "source": [
    "### 5. Create a Series that has all of the same letters but uppercased."
   ]
  },
  {
   "cell_type": "code",
   "execution_count": 19,
   "id": "3e5c49c0",
   "metadata": {},
   "outputs": [
    {
     "data": {
      "text/plain": [
       "0      H\n",
       "1      N\n",
       "2      V\n",
       "3      I\n",
       "4      D\n",
       "      ..\n",
       "195    R\n",
       "196    O\n",
       "197    G\n",
       "198    U\n",
       "199    Y\n",
       "Length: 200, dtype: object"
      ]
     },
     "execution_count": 19,
     "metadata": {},
     "output_type": "execute_result"
    }
   ],
   "source": [
    "letter_series.str.upper()"
   ]
  },
  {
   "cell_type": "markdown",
   "id": "89ac966e",
   "metadata": {},
   "source": [
    "### 6. Create a bar plot of the frequencies of the 6 most commonly occuring letters."
   ]
  },
  {
   "cell_type": "code",
   "execution_count": 35,
   "id": "8c55e4cf",
   "metadata": {},
   "outputs": [
    {
     "data": {
      "text/plain": [
       "y    13\n",
       "p    12\n",
       "w    10\n",
       "m     9\n",
       "n     9\n",
       "b     9\n",
       "k     9\n",
       "d     8\n",
       "c     8\n",
       "o     8\n",
       "r     8\n",
       "q     8\n",
       "h     8\n",
       "x     8\n",
       "a     8\n",
       "u     7\n",
       "z     7\n",
       "t     7\n",
       "v     7\n",
       "j     6\n",
       "e     6\n",
       "f     6\n",
       "i     5\n",
       "g     5\n",
       "s     5\n",
       "l     4\n",
       "dtype: int64"
      ]
     },
     "execution_count": 35,
     "metadata": {},
     "output_type": "execute_result"
    }
   ],
   "source": [
    "letter_count = letter_series.value_counts()\n",
    "letter_count"
   ]
  },
  {
   "cell_type": "code",
   "execution_count": 38,
   "id": "0365a0a7",
   "metadata": {},
   "outputs": [
    {
     "data": {
      "image/png": "[encoded data removed]",
      "text/plain": [
       "<Figure size 432x288 with 1 Axes>"
      ]
     },
     "metadata": {
      "needs_background": "light"
     },
     "output_type": "display_data"
    }
   ],
   "source": [
    "letter_count.head(6).plot.bar()\n",
    "\n",
    "plt.show()"
   ]
  },
  {
   "cell_type": "markdown",
   "id": "dd865d6e",
   "metadata": {},
   "source": [
    "### Use pandas to create a Series named numbers from the following list:\n",
    "\n",
    "\n",
    "    ['$796,459.41', '$278.60', '$482,571.67', '$4,503,915.98', '$2,121,418.3', '$1,260,813.3', '$87,231.01', '$1,509,175.45', '$4,138,548.00', '$2,848,913.80', '$594,715.39', '$4,789,988.17', '$4,513,644.5', '$3,191,059.97', '$1,758,712.24', '$4,338,283.54', '$4,738,303.38', '$2,791,759.67', '$769,681.94', '$452,650.23']\n"
   ]
  },
  {
   "cell_type": "code",
   "execution_count": 98,
   "id": "2334b2f1",
   "metadata": {},
   "outputs": [],
   "source": [
    "dollar_series = pd.Series(['$796,459.41', '$278.60', '$482,571.67', '$4,503,915.98', '$2,121,418.3', '$1,260,813.3', '$87,231.01', '$1,509,175.45', '$4,138,548.00', '$2,848,913.80', '$594,715.39', '$4,789,988.17', '$4,513,644.5', '$3,191,059.97', '$1,758,712.24', '$4,338,283.54', '$4,738,303.38', '$2,791,759.67', '$769,681.94', '$452,650.23'])"
   ]
  },
  {
   "cell_type": "code",
   "execution_count": 99,
   "id": "f011b9f1",
   "metadata": {},
   "outputs": [
    {
     "data": {
      "text/plain": [
       "count                20\n",
       "unique               20\n",
       "top       $3,191,059.97\n",
       "freq                  1\n",
       "dtype: object"
      ]
     },
     "execution_count": 99,
     "metadata": {},
     "output_type": "execute_result"
    }
   ],
   "source": [
    "dollar_series.describe()"
   ]
  },
  {
   "cell_type": "markdown",
   "id": "d5440e27",
   "metadata": {},
   "source": [
    "### 1. What is the data type of the numbers Series?"
   ]
  },
  {
   "cell_type": "code",
   "execution_count": 100,
   "id": "e39a983e",
   "metadata": {},
   "outputs": [
    {
     "data": {
      "text/plain": [
       "dtype('O')"
      ]
     },
     "execution_count": 100,
     "metadata": {},
     "output_type": "execute_result"
    }
   ],
   "source": [
    "dollar_series.dtype"
   ]
  },
  {
   "cell_type": "markdown",
   "id": "c0d0e9e2",
   "metadata": {},
   "source": [
    "### 2. How many elements are in the number Series?"
   ]
  },
  {
   "cell_type": "code",
   "execution_count": 101,
   "id": "22ac825d",
   "metadata": {},
   "outputs": [
    {
     "data": {
      "text/plain": [
       "20"
      ]
     },
     "execution_count": 101,
     "metadata": {},
     "output_type": "execute_result"
    }
   ],
   "source": [
    "dollar_series.size"
   ]
  },
  {
   "cell_type": "markdown",
   "id": "0c003aef",
   "metadata": {},
   "source": [
    "### 3. Perform the necessary manipulations by accessing Series attributes and methods to convert the numbers Series to a numeric data type."
   ]
  },
  {
   "cell_type": "code",
   "execution_count": 121,
   "id": "74dc4b09",
   "metadata": {},
   "outputs": [
    {
     "data": {
      "text/plain": [
       "0      796459.41\n",
       "1         278.60\n",
       "2      482571.67\n",
       "3     4503915.98\n",
       "4     2121418.30\n",
       "5     1260813.30\n",
       "6       87231.01\n",
       "7     1509175.45\n",
       "8     4138548.00\n",
       "9     2848913.80\n",
       "10     594715.39\n",
       "11    4789988.17\n",
       "12    4513644.50\n",
       "13    3191059.97\n",
       "14    1758712.24\n",
       "15    4338283.54\n",
       "16    4738303.38\n",
       "17    2791759.67\n",
       "18     769681.94\n",
       "19     452650.23\n",
       "dtype: float64"
      ]
     },
     "execution_count": 121,
     "metadata": {},
     "output_type": "execute_result"
    }
   ],
   "source": [
    "\n",
    "dollar_series = dollar_series.apply(lambda x: x.replace('$', '').replace(',', '')\n",
    "                                if isinstance(x, str) else x).astype(float)\n",
    "\n",
    "\n",
    "\n",
    "dollar_series "
   ]
  },
  {
   "cell_type": "markdown",
   "id": "805c2150",
   "metadata": {},
   "source": [
    "### 4. Run the code to discover the maximum value from the Series."
   ]
  },
  {
   "cell_type": "code",
   "execution_count": 52,
   "id": "d0a6b3e5",
   "metadata": {},
   "outputs": [
    {
     "data": {
      "text/plain": [
       "4789988.17"
      ]
     },
     "execution_count": 52,
     "metadata": {},
     "output_type": "execute_result"
    }
   ],
   "source": [
    "dollar_series.max()"
   ]
  },
  {
   "cell_type": "markdown",
   "id": "7c1ed903",
   "metadata": {},
   "source": [
    "### 5. Run the code to discover the minimum value from the Series."
   ]
  },
  {
   "cell_type": "code",
   "execution_count": 53,
   "id": "579d528d",
   "metadata": {},
   "outputs": [
    {
     "data": {
      "text/plain": [
       "278.6"
      ]
     },
     "execution_count": 53,
     "metadata": {},
     "output_type": "execute_result"
    }
   ],
   "source": [
    "dollar_series.min()"
   ]
  },
  {
   "cell_type": "markdown",
   "id": "5ba9c8bf",
   "metadata": {},
   "source": [
    "### 6. What is the range of the values in the Series?"
   ]
  },
  {
   "cell_type": "code",
   "execution_count": 105,
   "id": "bd95e8a0",
   "metadata": {},
   "outputs": [
    {
     "data": {
      "text/plain": [
       "4789709.57"
      ]
     },
     "execution_count": 105,
     "metadata": {},
     "output_type": "execute_result"
    }
   ],
   "source": [
    "dollar_series.index\n",
    "\n",
    "range = dollar_series.max() - dollar_series.min()\n",
    "range"
   ]
  },
  {
   "cell_type": "markdown",
   "id": "3712f8ea",
   "metadata": {},
   "source": [
    "### 7. Bin the data into 4 equally sized intervals or bins and output how many values fall into each bin."
   ]
  },
  {
   "cell_type": "code",
   "execution_count": 58,
   "id": "0f9f262d",
   "metadata": {},
   "outputs": [
    {
     "data": {
      "text/plain": [
       "(-4511.11, 1197705.993]       7\n",
       "(3592560.778, 4789988.17]     6\n",
       "(1197705.993, 2395133.385]    4\n",
       "(2395133.385, 3592560.778]    3\n",
       "dtype: int64"
      ]
     },
     "execution_count": 58,
     "metadata": {},
     "output_type": "execute_result"
    }
   ],
   "source": [
    "pd.cut(dollar_series, 4).value_counts()"
   ]
  },
  {
   "cell_type": "markdown",
   "id": "210a096d",
   "metadata": {},
   "source": [
    "### 8. Plot the binned data in a meaningful way. Be sure to include a title and axis labels."
   ]
  },
  {
   "cell_type": "code",
   "execution_count": 108,
   "id": "a54074d5",
   "metadata": {},
   "outputs": [
    {
     "data": {
      "image/png": "[encoded data removed]",
      "text/plain": [
       "<Figure size 432x288 with 1 Axes>"
      ]
     },
     "metadata": {
      "needs_background": "light"
     },
     "output_type": "display_data"
    }
   ],
   "source": [
    "\n",
    "\n",
    "dollar_series.value_counts(bins=4).plot.bar()\n",
    "\n",
    "plt.title('Binning Data')\n",
    "plt.xticks()\n",
    "plt.xlabel('Count')\n",
    "plt.ylabel('Dollars')\n",
    "\n",
    "plt.show()\n",
    "\n",
    "\n"
   ]
  },
  {
   "cell_type": "markdown",
   "id": "495e64db",
   "metadata": {},
   "source": [
    "### Use pandas to create a Series named exam_scores from the following list:\n",
    "\n",
    "\n",
    "    [60, 86, 75, 62, 93, 71, 60, 83, 95, 78, 65, 72, 69, 81, 96, 80, 85, 92, 82, 78]"
   ]
  },
  {
   "cell_type": "code",
   "execution_count": 68,
   "id": "d08aa4b1",
   "metadata": {},
   "outputs": [],
   "source": [
    "exam_scores = pd.Series([60, 86, 75, 62, 93, 71, 60, 83, 95, 78, 65, 72, 69, 81, 96, 80, 85, 92, 82, 78])"
   ]
  },
  {
   "cell_type": "code",
   "execution_count": 69,
   "id": "765da1e0",
   "metadata": {},
   "outputs": [
    {
     "data": {
      "text/plain": [
       "count    20.000000\n",
       "mean     78.150000\n",
       "std      11.352139\n",
       "min      60.000000\n",
       "25%      70.500000\n",
       "50%      79.000000\n",
       "75%      85.250000\n",
       "max      96.000000\n",
       "dtype: float64"
      ]
     },
     "execution_count": 69,
     "metadata": {},
     "output_type": "execute_result"
    }
   ],
   "source": [
    "exam_scores.describe()"
   ]
  },
  {
   "cell_type": "markdown",
   "id": "bb8efd17",
   "metadata": {},
   "source": [
    "### 1. How many elements are in the exam_scores Series?"
   ]
  },
  {
   "cell_type": "code",
   "execution_count": 70,
   "id": "be6220df",
   "metadata": {},
   "outputs": [
    {
     "data": {
      "text/plain": [
       "20"
      ]
     },
     "execution_count": 70,
     "metadata": {},
     "output_type": "execute_result"
    }
   ],
   "source": [
    "exam_scores.size"
   ]
  },
  {
   "cell_type": "markdown",
   "id": "bf23d2ac",
   "metadata": {},
   "source": [
    "### 2. Run the code to discover the minimum, the maximum, the mean, and the median scores for the exam_scores Series."
   ]
  },
  {
   "cell_type": "code",
   "execution_count": 72,
   "id": "a44c79fe",
   "metadata": {},
   "outputs": [
    {
     "data": {
      "text/plain": [
       "60"
      ]
     },
     "execution_count": 72,
     "metadata": {},
     "output_type": "execute_result"
    }
   ],
   "source": [
    "exam_scores.min()"
   ]
  },
  {
   "cell_type": "code",
   "execution_count": 71,
   "id": "8ebb27c9",
   "metadata": {},
   "outputs": [
    {
     "data": {
      "text/plain": [
       "96"
      ]
     },
     "execution_count": 71,
     "metadata": {},
     "output_type": "execute_result"
    }
   ],
   "source": [
    "exam_scores.max()"
   ]
  },
  {
   "cell_type": "code",
   "execution_count": 73,
   "id": "b10a8cd1",
   "metadata": {},
   "outputs": [
    {
     "data": {
      "text/plain": [
       "78.15"
      ]
     },
     "execution_count": 73,
     "metadata": {},
     "output_type": "execute_result"
    }
   ],
   "source": [
    "exam_scores.mean()"
   ]
  },
  {
   "cell_type": "code",
   "execution_count": 74,
   "id": "0531cac4",
   "metadata": {},
   "outputs": [
    {
     "data": {
      "text/plain": [
       "79.0"
      ]
     },
     "execution_count": 74,
     "metadata": {},
     "output_type": "execute_result"
    }
   ],
   "source": [
    "exam_scores.median()"
   ]
  },
  {
   "cell_type": "markdown",
   "id": "0767d64c",
   "metadata": {},
   "source": [
    "### 3. Plot the Series in a meaningful way and make sure your chart has a title and axis labels."
   ]
  },
  {
   "cell_type": "code",
   "execution_count": 143,
   "id": "8561a602",
   "metadata": {},
   "outputs": [
    {
     "data": {
      "image/png": "[encoded data removed]",
      "text/plain": [
       "<Figure size 432x288 with 1 Axes>"
      ]
     },
     "metadata": {
      "needs_background": "light"
     },
     "output_type": "display_data"
    }
   ],
   "source": [
    "plt.title('Exam Scores')\n",
    "plt.xticks(rotation=0)\n",
    "plt.xlabel('Grade')\n",
    "plt.ylabel('ABC')\n",
    "\n",
    "exam_scores.plot.hist(ec='black', width = 1)\n",
    "\n",
    "plt.show()\n",
    "\n",
    "\n"
   ]
  },
  {
   "cell_type": "markdown",
   "id": "cc64901c",
   "metadata": {},
   "source": [
    "### 4. Write the code necessary to implement a curve for your exam_grades Series and save this as curved_grades. Add the necessary points to the highest grade to make it 100, and add the same number of points to every other score in the Series as well."
   ]
  },
  {
   "cell_type": "code",
   "execution_count": 113,
   "id": "c12fdd39",
   "metadata": {},
   "outputs": [
    {
     "data": {
      "text/plain": [
       "0      64\n",
       "1      90\n",
       "2      79\n",
       "3      66\n",
       "4      97\n",
       "5      75\n",
       "6      64\n",
       "7      87\n",
       "8      99\n",
       "9      82\n",
       "10     69\n",
       "11     76\n",
       "12     73\n",
       "13     85\n",
       "14    100\n",
       "15     84\n",
       "16     89\n",
       "17     96\n",
       "18     86\n",
       "19     82\n",
       "dtype: int64"
      ]
     },
     "execution_count": 113,
     "metadata": {},
     "output_type": "execute_result"
    }
   ],
   "source": [
    "curve = 100 - exam_scores.max()\n",
    "curve\n",
    "\n",
    "\n",
    "curved_scores = exam_scores + curve\n",
    "curved_scores"
   ]
  },
  {
   "cell_type": "markdown",
   "id": "6b98c7c9",
   "metadata": {},
   "source": [
    "### 5. Write the code necessary to implement a curve for your exam_grades Series and save this as curved_grades. Add the necessary points to the highest grade to make it 100, and add the same number of points to every other score in the Series as well."
   ]
  },
  {
   "cell_type": "code",
   "execution_count": 144,
   "id": "fe1d2612",
   "metadata": {},
   "outputs": [
    {
     "data": {
      "text/plain": [
       "0     F\n",
       "1     B\n",
       "2     C\n",
       "3     F\n",
       "4     A\n",
       "5     D\n",
       "6     F\n",
       "7     B\n",
       "8     A\n",
       "9     B\n",
       "10    F\n",
       "11    C\n",
       "12    D\n",
       "13    B\n",
       "14    A\n",
       "15    B\n",
       "16    B\n",
       "17    A\n",
       "18    B\n",
       "19    B\n",
       "dtype: category\n",
       "Categories (5, object): ['F' < 'D' < 'C' < 'B' < 'A']"
      ]
     },
     "execution_count": 144,
     "metadata": {},
     "output_type": "execute_result"
    }
   ],
   "source": [
    "\n",
    "bin_edges = [0, 70, 75, 80, 90, 101]\n",
    "\n",
    "bin_labels = ['F', 'D', 'C', 'B', 'A']\n",
    "\n",
    "letter_grades = pd.cut(curved_scores, bins=bin_edges, labels=bin_labels)\n",
    "letter_grades"
   ]
  },
  {
   "cell_type": "markdown",
   "id": "41375cab",
   "metadata": {},
   "source": [
    "### 6. Plot your new categorical letter_grades Series in a meaninful way and include a title and axis labels."
   ]
  },
  {
   "cell_type": "code",
   "execution_count": 146,
   "id": "0c5306f1",
   "metadata": {},
   "outputs": [
    {
     "data": {
      "image/png": "[encoded data removed]",
      "text/plain": [
       "<Figure size 432x288 with 1 Axes>"
      ]
     },
     "metadata": {
      "needs_background": "light"
     },
     "output_type": "display_data"
    }
   ],
   "source": [
    "letter_grades.value_counts().sort_index().plot.barh(color='green',\n",
    "                                                    ec='black')\n",
    "\n",
    "plt.title('Letter Grades')\n",
    "plt.xlabel('Number of Students')\n",
    "plt.ylabel('Letter Grade')\n",
    "\n",
    "plt.show()"
   ]
  },
  {
   "cell_type": "code",
   "execution_count": null,
   "id": "5a6e17c8",
   "metadata": {},
   "outputs": [],
   "source": []
  }
 ],
 "metadata": {
  "kernelspec": {
   "display_name": "Python 3",
   "language": "python",
   "name": "python3"
  },
  "language_info": {
   "codemirror_mode": {
    "name": "ipython",
    "version": 3
   },
   "file_extension": ".py",
   "mimetype": "text/x-python",
   "name": "python",
   "nbconvert_exporter": "python",
   "pygments_lexer": "ipython3",
   "version": "3.8.8"
  }
 },
 "nbformat": 4,
 "nbformat_minor": 5
}
